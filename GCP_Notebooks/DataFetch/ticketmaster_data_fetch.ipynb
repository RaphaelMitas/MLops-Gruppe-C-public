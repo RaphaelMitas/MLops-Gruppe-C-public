{
 "cells": [
  {
   "cell_type": "code",
   "execution_count": 7,
   "id": "d39458d2",
   "metadata": {
    "scrolled": true
   },
   "outputs": [],
   "source": [
    "import requests\n",
    "import json\n",
    "import pprint\n",
    "import logging\n",
    "\n",
    "start_page = 0\n",
    "\n",
    "BASE_URL = 'https://app.ticketmaster.com'\n",
    "\n",
    "DISCOVERY_API = f'/discovery/v2/events?segmentId=KZFzniwnSyZfZ7v7nJ&latlong=48.7758459%2C9.1829321&locale=*&radius=100&page={start_page}&size=20'\n",
    "\n",
    "apikey = 'YOUR_API_KEY'\n",
    "\n",
    "API_KEY = f'&apikey={apikey}'\n",
    "\n",
    "response = requests.get(BASE_URL + DISCOVERY_API + API_KEY)\n",
    "\n",
    "json_response =  response.json()\n",
    "\n",
    "total_pages =  json_response['page']['totalPages']\n",
    "\n",
    "response_dict = dict()\n",
    "\n",
    "for page in range(total_pages):\n",
    "\n",
    "    DISCOVERY_API = f'/discovery/v2/events?segmentId=KZFzniwnSyZfZ7v7nJ&latlong=48.7758459%2C9.1829321&locale=*&radius=100&page={page}&size=20'\n",
    "\n",
    "    response = requests.get(BASE_URL + DISCOVERY_API + API_KEY)\n",
    "    json_response =  response.json()\n",
    "\n",
    "    response_dict[page] = json_response\n"
   ]
  },
  {
   "cell_type": "code",
   "execution_count": 10,
   "id": "73c20ec8",
   "metadata": {},
   "outputs": [],
   "source": [
    "with open('ticketmaster_data.json', 'w') as f:\n",
    "    json.dump(response_dict, f)\n"
   ]
  }
 ],
 "metadata": {
  "kernelspec": {
   "display_name": "Python 3",
   "language": "python",
   "name": "python3"
  },
  "language_info": {
   "codemirror_mode": {
    "name": "ipython",
    "version": 3
   },
   "file_extension": ".py",
   "mimetype": "text/x-python",
   "name": "python",
   "nbconvert_exporter": "python",
   "pygments_lexer": "ipython3",
   "version": "3.8.10"
  }
 },
 "nbformat": 4,
 "nbformat_minor": 5
}