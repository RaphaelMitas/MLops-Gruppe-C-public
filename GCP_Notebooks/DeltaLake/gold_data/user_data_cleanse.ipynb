{
 "cells": [
  {
   "cell_type": "code",
   "execution_count": 1,
   "metadata": {
    "collapsed": true
   },
   "outputs": [],
   "source": [
    "import os\n",
    "os.environ[\"PYARROW_IGNORE_TIMEZONE\"] = \"1\"\n",
    "import pyspark\n",
    "from delta import *\n",
    "\n",
    "builder = pyspark.sql.SparkSession.builder.appName(\"MyApp\") \\\n",
    "    .config(\"spark.sql.extensions\", \"io.delta.sql.DeltaSparkSessionExtension\") \\\n",
    "    .config(\"spark.sql.catalog.spark_catalog\", \"org.apache.spark.sql.delta.catalog.DeltaCatalog\")\n",
    "\n",
    "spark = configure_spark_with_delta_pip(builder).getOrCreate()"
   ]
  },
  {
   "cell_type": "code",
   "execution_count": 2,
   "outputs": [
    {
     "name": "stdout",
     "output_type": "stream",
     "text": [
      "+--------------------+--------------------+----------+---------+--------------------+--------------------+--------------------+------+--------------------+--------------------+--------------------+--------------------+--------------------+--------------------+\n",
      "|                href|                 uri|popularity|followers|                  id|                name|              genres|  type|                 uid|         create_time|         update_time|           read_time|                 url|           image_url|\n",
      "+--------------------+--------------------+----------+---------+--------------------+--------------------+--------------------+------+--------------------+--------------------+--------------------+--------------------+--------------------+--------------------+\n",
      "|https://api.spoti...|spotify:artist:71...|        83| 21527801|711MCceyCBcFnzjGY...|               AC/DC|[australian rock,...|artist|uagVX8DeaePP88Qz5...|2021-12-11 12:21:...|2021-12-11 12:21:...|2022-01-09 16:38:...|https://open.spot...|https://i.scdn.co...|\n",
      "|https://api.spoti...|spotify:artist:3J...|        71|  2450429|3JsMj0DEzyWc0VDlH...|          Supertramp|[album rock, art ...|artist|uagVX8DeaePP88Qz5...|2021-12-11 12:21:...|2021-12-11 12:21:...|2022-01-09 16:38:...|https://open.spot...|https://i.scdn.co...|\n",
      "|https://api.spoti...|spotify:artist:11...|        50|   115537|11YTrgsi6VjRCkExQ...|           Wise Guys|[german pop, germ...|artist|uagVX8DeaePP88Qz5...|2021-12-11 12:21:...|2021-12-11 12:21:...|2022-01-09 16:38:...|https://open.spot...|https://i.scdn.co...|\n",
      "|https://api.spoti...|spotify:artist:49...|        55|   301844|492hDmhPyuIjP3MgT...|        Caro Emerald|[dutch pop, elect...|artist|uagVX8DeaePP88Qz5...|2021-12-11 12:21:...|2021-12-11 12:21:...|2022-01-09 16:38:...|https://open.spot...|https://i.scdn.co...|\n",
      "|https://api.spoti...|spotify:artist:06...|        69|   708011|06bDwgCHeMAwhgI8i...|          Set It Off|[electropowerpop,...|artist|uagVX8DeaePP88Qz5...|2021-12-11 12:21:...|2021-12-11 12:21:...|2022-01-09 16:38:...|https://open.spot...|https://i.scdn.co...|\n",
      "|https://api.spoti...|spotify:artist:0W...|        77|  5276908|0WwSkZ7LtFUFjGjMZ...|        Dire Straits|[album rock, clas...|artist|uagVX8DeaePP88Qz5...|2021-12-11 12:21:...|2021-12-11 12:21:...|2022-01-09 16:38:...|https://open.spot...|https://i.scdn.co...|\n",
      "|https://api.spoti...|spotify:artist:4A...|        63|   574894|4AYkFtEBnNnGuoo8H...|             Madness|[new romantic, sk...|artist|uagVX8DeaePP88Qz5...|2021-12-11 12:21:...|2021-12-11 12:21:...|2022-01-09 16:38:...|https://open.spot...|https://i.scdn.co...|\n",
      "|https://api.spoti...|spotify:artist:6o...|        83| 14151921|6olE6TJLqED3rqDCT...|             Nirvana|[alternative rock...|artist|uagVX8DeaePP88Qz5...|2021-12-11 12:21:...|2021-12-11 12:21:...|2022-01-09 16:38:...|https://open.spot...|https://i.scdn.co...|\n",
      "|https://api.spoti...|spotify:artist:58...|        80| 10147646|58lV9VcRSjABbAbfW...|            Bon Jovi|  [glam metal, rock]|artist|uagVX8DeaePP88Qz5...|2021-12-11 12:21:...|2021-12-11 12:21:...|2022-01-09 16:38:...|https://open.spot...|https://i.scdn.co...|\n",
      "|https://api.spoti...|spotify:artist:5q...|        58|    21637|5qEtLvXzYdv0G7c7r...|                 Lyn|      [japanese vgm]|artist|uagVX8DeaePP88Qz5...|2021-12-11 12:21:...|2021-12-11 12:21:...|2022-01-09 16:38:...|https://open.spot...|                null|\n",
      "|https://api.spoti...|spotify:artist:7i...|        71|  2483229|7iWiAD5LLKyiox2gr...|Bullet For My Val...|[alternative meta...|artist|uagVX8DeaePP88Qz5...|2021-12-11 12:21:...|2021-12-11 12:21:...|2022-01-09 16:38:...|https://open.spot...|https://i.scdn.co...|\n",
      "|https://api.spoti...|spotify:artist:08...|        68|  1117322|08yf5A2nS4XEeNvab...|        Billy Talent|[alternative meta...|artist|uagVX8DeaePP88Qz5...|2021-12-11 12:21:...|2021-12-11 12:21:...|2022-01-09 16:38:...|https://open.spot...|https://i.scdn.co...|\n",
      "|https://api.spoti...|spotify:artist:1s...|        57|   230792|1sICjVlCMOCah0snH...|        The BossHoss|[comic, german co...|artist|uagVX8DeaePP88Qz5...|2021-12-11 12:21:...|2021-12-11 12:21:...|2022-01-09 16:38:...|https://open.spot...|https://i.scdn.co...|\n",
      "|https://api.spoti...|spotify:artist:22...|        81| 11085632|22bE4uQ6baNwSHPVc...|  The Rolling Stones|[british invasion...|artist|uagVX8DeaePP88Qz5...|2021-12-11 12:21:...|2021-12-11 12:21:...|2022-01-09 16:38:...|https://open.spot...|https://i.scdn.co...|\n",
      "|https://api.spoti...|spotify:artist:7d...|        94| 51018121|7dGJo4pcD2V6oG8kP...|              Eminem|[detroit hip hop,...|artist|VQEI5Ea2AsP2tjLTl...|2021-12-06 15:01:...|2022-01-09 15:39:...|2022-01-09 16:38:...|https://open.spot...|https://i.scdn.co...|\n",
      "|https://api.spoti...|spotify:artist:5z...|        68|    44388|5zQsBMuxuacTrhfuD...|    Peder B. Helland|                  []|artist|VQEI5Ea2AsP2tjLTl...|2021-12-06 15:01:...|2022-01-09 15:39:...|2022-01-09 16:38:...|https://open.spot...|https://i.scdn.co...|\n",
      "|https://api.spoti...|spotify:artist:3u...|        66|   219386|3u2R8st1bb6zfBqNW...|             MOD SUN|[minnesota hip ho...|artist|VQEI5Ea2AsP2tjLTl...|2021-12-06 15:01:...|2022-01-09 15:39:...|2022-01-09 16:38:...|https://open.spot...|https://i.scdn.co...|\n",
      "|https://api.spoti...|spotify:artist:0p...|        64|  1172606|0pnd3MP2rxAzljR9A...|          Little Big|[hard bass, russi...|artist|VQEI5Ea2AsP2tjLTl...|2021-12-06 15:01:...|2022-01-09 15:39:...|2022-01-09 16:38:...|https://open.spot...|https://i.scdn.co...|\n",
      "|https://api.spoti...|spotify:artist:7i...|        72|  2504998|7iWiAD5LLKyiox2gr...|Bullet For My Val...|[alternative meta...|artist|VQEI5Ea2AsP2tjLTl...|2021-12-06 15:01:...|2022-01-09 15:39:...|2022-01-09 16:38:...|https://open.spot...|https://i.scdn.co...|\n",
      "|https://api.spoti...|spotify:artist:0L...|        76|  2000394|0L5fC7Ogm2YwgqVCR...|             Volbeat|[alternative meta...|artist|VQEI5Ea2AsP2tjLTl...|2021-12-06 15:01:...|2022-01-09 15:39:...|2022-01-09 16:38:...|https://open.spot...|https://i.scdn.co...|\n",
      "+--------------------+--------------------+----------+---------+--------------------+--------------------+--------------------+------+--------------------+--------------------+--------------------+--------------------+--------------------+--------------------+\n",
      "only showing top 20 rows\n",
      "\n"
     ]
    }
   ],
   "source": [
    "\n",
    "spotify = spark.read.format('delta').load('/home/mlops/project/DeltaLake/bronze_data/spotify_user_data_table')\n",
    "spotify.show()"
   ],
   "metadata": {
    "collapsed": false,
    "pycharm": {
     "name": "#%%\n"
    }
   }
  },
  {
   "cell_type": "code",
   "execution_count": 8,
   "outputs": [
    {
     "name": "stdout",
     "output_type": "stream",
     "text": [
      "+--------------------+--------------------+----------+---------+--------------------+--------------------+--------------------+------+--------------------+--------------------+--------------------+--------------------+--------------------+--------------------+\n",
      "|                href|                 uri|popularity|followers|                  id|                name|              genres|  type|                 uid|         create_time|         update_time|           read_time|                 url|           image_url|\n",
      "+--------------------+--------------------+----------+---------+--------------------+--------------------+--------------------+------+--------------------+--------------------+--------------------+--------------------+--------------------+--------------------+\n",
      "|https://api.spoti...|spotify:artist:71...|        83| 21527801|711MCceyCBcFnzjGY...|               AC/DC|[australian rock,...|artist|uagVX8DeaePP88Qz5...|2021-12-11 12:21:...|2021-12-11 12:21:...|2022-01-09 16:38:...|https://open.spot...|https://i.scdn.co...|\n",
      "|https://api.spoti...|spotify:artist:3J...|        71|  2450429|3JsMj0DEzyWc0VDlH...|          Supertramp|[album rock, art ...|artist|uagVX8DeaePP88Qz5...|2021-12-11 12:21:...|2021-12-11 12:21:...|2022-01-09 16:38:...|https://open.spot...|https://i.scdn.co...|\n",
      "|https://api.spoti...|spotify:artist:11...|        50|   115537|11YTrgsi6VjRCkExQ...|           Wise Guys|[german pop, germ...|artist|uagVX8DeaePP88Qz5...|2021-12-11 12:21:...|2021-12-11 12:21:...|2022-01-09 16:38:...|https://open.spot...|https://i.scdn.co...|\n",
      "|https://api.spoti...|spotify:artist:49...|        55|   301844|492hDmhPyuIjP3MgT...|        Caro Emerald|[dutch pop, elect...|artist|uagVX8DeaePP88Qz5...|2021-12-11 12:21:...|2021-12-11 12:21:...|2022-01-09 16:38:...|https://open.spot...|https://i.scdn.co...|\n",
      "|https://api.spoti...|spotify:artist:06...|        69|   708011|06bDwgCHeMAwhgI8i...|          Set It Off|[electropowerpop,...|artist|uagVX8DeaePP88Qz5...|2021-12-11 12:21:...|2021-12-11 12:21:...|2022-01-09 16:38:...|https://open.spot...|https://i.scdn.co...|\n",
      "|https://api.spoti...|spotify:artist:0W...|        77|  5276908|0WwSkZ7LtFUFjGjMZ...|        Dire Straits|[album rock, clas...|artist|uagVX8DeaePP88Qz5...|2021-12-11 12:21:...|2021-12-11 12:21:...|2022-01-09 16:38:...|https://open.spot...|https://i.scdn.co...|\n",
      "|https://api.spoti...|spotify:artist:4A...|        63|   574894|4AYkFtEBnNnGuoo8H...|             Madness|[new romantic, sk...|artist|uagVX8DeaePP88Qz5...|2021-12-11 12:21:...|2021-12-11 12:21:...|2022-01-09 16:38:...|https://open.spot...|https://i.scdn.co...|\n",
      "|https://api.spoti...|spotify:artist:6o...|        83| 14151921|6olE6TJLqED3rqDCT...|             Nirvana|[alternative rock...|artist|uagVX8DeaePP88Qz5...|2021-12-11 12:21:...|2021-12-11 12:21:...|2022-01-09 16:38:...|https://open.spot...|https://i.scdn.co...|\n",
      "|https://api.spoti...|spotify:artist:58...|        80| 10147646|58lV9VcRSjABbAbfW...|            Bon Jovi|  [glam metal, rock]|artist|uagVX8DeaePP88Qz5...|2021-12-11 12:21:...|2021-12-11 12:21:...|2022-01-09 16:38:...|https://open.spot...|https://i.scdn.co...|\n",
      "|https://api.spoti...|spotify:artist:5q...|        58|    21637|5qEtLvXzYdv0G7c7r...|                 Lyn|      [japanese vgm]|artist|uagVX8DeaePP88Qz5...|2021-12-11 12:21:...|2021-12-11 12:21:...|2022-01-09 16:38:...|https://open.spot...|                null|\n",
      "|https://api.spoti...|spotify:artist:7i...|        71|  2483229|7iWiAD5LLKyiox2gr...|Bullet For My Val...|[alternative meta...|artist|uagVX8DeaePP88Qz5...|2021-12-11 12:21:...|2021-12-11 12:21:...|2022-01-09 16:38:...|https://open.spot...|https://i.scdn.co...|\n",
      "|https://api.spoti...|spotify:artist:08...|        68|  1117322|08yf5A2nS4XEeNvab...|        Billy Talent|[alternative meta...|artist|uagVX8DeaePP88Qz5...|2021-12-11 12:21:...|2021-12-11 12:21:...|2022-01-09 16:38:...|https://open.spot...|https://i.scdn.co...|\n",
      "|https://api.spoti...|spotify:artist:1s...|        57|   230792|1sICjVlCMOCah0snH...|        The BossHoss|[comic, german co...|artist|uagVX8DeaePP88Qz5...|2021-12-11 12:21:...|2021-12-11 12:21:...|2022-01-09 16:38:...|https://open.spot...|https://i.scdn.co...|\n",
      "|https://api.spoti...|spotify:artist:22...|        81| 11085632|22bE4uQ6baNwSHPVc...|  The Rolling Stones|[british invasion...|artist|uagVX8DeaePP88Qz5...|2021-12-11 12:21:...|2021-12-11 12:21:...|2022-01-09 16:38:...|https://open.spot...|https://i.scdn.co...|\n",
      "|https://api.spoti...|spotify:artist:7d...|        94| 51018121|7dGJo4pcD2V6oG8kP...|              Eminem|[detroit hip hop,...|artist|VQEI5Ea2AsP2tjLTl...|2021-12-06 15:01:...|2022-01-09 15:39:...|2022-01-09 16:38:...|https://open.spot...|https://i.scdn.co...|\n",
      "|https://api.spoti...|spotify:artist:3u...|        66|   219386|3u2R8st1bb6zfBqNW...|             MOD SUN|[minnesota hip ho...|artist|VQEI5Ea2AsP2tjLTl...|2021-12-06 15:01:...|2022-01-09 15:39:...|2022-01-09 16:38:...|https://open.spot...|https://i.scdn.co...|\n",
      "|https://api.spoti...|spotify:artist:0p...|        64|  1172606|0pnd3MP2rxAzljR9A...|          Little Big|[hard bass, russi...|artist|VQEI5Ea2AsP2tjLTl...|2021-12-06 15:01:...|2022-01-09 15:39:...|2022-01-09 16:38:...|https://open.spot...|https://i.scdn.co...|\n",
      "|https://api.spoti...|spotify:artist:7i...|        72|  2504998|7iWiAD5LLKyiox2gr...|Bullet For My Val...|[alternative meta...|artist|VQEI5Ea2AsP2tjLTl...|2021-12-06 15:01:...|2022-01-09 15:39:...|2022-01-09 16:38:...|https://open.spot...|https://i.scdn.co...|\n",
      "|https://api.spoti...|spotify:artist:0L...|        76|  2000394|0L5fC7Ogm2YwgqVCR...|             Volbeat|[alternative meta...|artist|VQEI5Ea2AsP2tjLTl...|2021-12-06 15:01:...|2022-01-09 15:39:...|2022-01-09 16:38:...|https://open.spot...|https://i.scdn.co...|\n",
      "|https://api.spoti...|spotify:artist:2W...|        45|   115948|2WLmgv66Uq4vt2i36...|         The Haunted|[classic garage r...|artist|VQEI5Ea2AsP2tjLTl...|2021-12-06 15:01:...|2022-01-09 15:39:...|2022-01-09 16:38:...|https://open.spot...|https://i.scdn.co...|\n",
      "+--------------------+--------------------+----------+---------+--------------------+--------------------+--------------------+------+--------------------+--------------------+--------------------+--------------------+--------------------+--------------------+\n",
      "only showing top 20 rows\n",
      "\n"
     ]
    }
   ],
   "source": [
    "import pyspark.sql.functions as F\n",
    "\n",
    "spotify_cleansed = spotify\n",
    "spotify_cleansed = spotify_cleansed.filter(F.size(\"genres\") > 0)\n",
    "\n",
    "spotify_cleansed.show()"
   ],
   "metadata": {
    "collapsed": false,
    "pycharm": {
     "name": "#%%\n"
    }
   }
  },
  {
   "cell_type": "code",
   "execution_count": 9,
   "outputs": [],
   "source": [
    "spotify_cleansed.write.format(\"delta\").mode(\"overwrite\").save(\"/home/mlops/project/DeltaLake/gold_data/spotify_cleansed_table\")"
   ],
   "metadata": {
    "collapsed": false,
    "pycharm": {
     "name": "#%%\n"
    }
   }
  },
  {
   "cell_type": "code",
   "execution_count": 4,
   "outputs": [
    {
     "data": {
      "text/plain": "                                                        href                                    uri  popularity  followers                      id          name                                                                                                       genres    type                           uid                create_time                update_time                  read_time                                                     url                                                         image_url\n0  https://api.spotify.com/v1/artists/711MCceyCBcFnzjGY4Q7Un  spotify:artist:711MCceyCBcFnzjGY4Q7Un          83   21527801  711MCceyCBcFnzjGY4Q7Un         AC/DC                                                                           [australian rock, hard rock, rock]  artist  uagVX8DeaePP88Qz5Vj2EtXstK03 2021-12-11 12:21:02.186210 2021-12-11 12:21:02.186210 2022-01-09 16:38:48.566406  https://open.spotify.com/artist/711MCceyCBcFnzjGY4Q7Un  https://i.scdn.co/image/ab6761610000e5ebc4c77549095c86acb4e77b37\n1  https://api.spotify.com/v1/artists/3JsMj0DEzyWc0VDlHuy9Bx  spotify:artist:3JsMj0DEzyWc0VDlHuy9Bx          71    2450429  3JsMj0DEzyWc0VDlHuy9Bx    Supertramp  [album rock, art rock, classic rock, glam rock, mellow gold, piano rock, progressive rock, rock, soft rock]  artist  uagVX8DeaePP88Qz5Vj2EtXstK03 2021-12-11 12:21:02.186210 2021-12-11 12:21:02.186210 2022-01-09 16:38:48.566406  https://open.spotify.com/artist/3JsMj0DEzyWc0VDlHuy9Bx  https://i.scdn.co/image/eebed895cad509b17c7c6faf47f21f1fc35e8829\n2  https://api.spotify.com/v1/artists/11YTrgsi6VjRCkExQBY13k  spotify:artist:11YTrgsi6VjRCkExQBY13k          50     115537  11YTrgsi6VjRCkExQBY13k     Wise Guys                                                            [german pop, german rock, kabarett, liedermacher]  artist  uagVX8DeaePP88Qz5Vj2EtXstK03 2021-12-11 12:21:02.186210 2021-12-11 12:21:02.186210 2022-01-09 16:38:48.566406  https://open.spotify.com/artist/11YTrgsi6VjRCkExQBY13k  https://i.scdn.co/image/4f1b2cabff7abd06fb17ed124252de64e1adcfae\n3  https://api.spotify.com/v1/artists/492hDmhPyuIjP3MgTcIqgm  spotify:artist:492hDmhPyuIjP3MgTcIqgm          55     301844  492hDmhPyuIjP3MgTcIqgm  Caro Emerald                                                                          [dutch pop, electro swing, nu jazz]  artist  uagVX8DeaePP88Qz5Vj2EtXstK03 2021-12-11 12:21:02.186210 2021-12-11 12:21:02.186210 2022-01-09 16:38:48.566406  https://open.spotify.com/artist/492hDmhPyuIjP3MgTcIqgm  https://i.scdn.co/image/ab6761610000e5eb379e885a01898367bfcd0c44\n4  https://api.spotify.com/v1/artists/06bDwgCHeMAwhgI8il4Y5k  spotify:artist:06bDwgCHeMAwhgI8il4Y5k          69     708011  06bDwgCHeMAwhgI8il4Y5k    Set It Off                             [electropowerpop, modern rock, otacore, pixie, pop punk, rock, social media pop]  artist  uagVX8DeaePP88Qz5Vj2EtXstK03 2021-12-11 12:21:02.186210 2021-12-11 12:21:02.186210 2022-01-09 16:38:48.566406  https://open.spotify.com/artist/06bDwgCHeMAwhgI8il4Y5k  https://i.scdn.co/image/ab6761610000e5eba368e75bc3275dabc6985ff5",
      "text/html": "<div>\n<style scoped>\n    .dataframe tbody tr th:only-of-type {\n        vertical-align: middle;\n    }\n\n    .dataframe tbody tr th {\n        vertical-align: top;\n    }\n\n    .dataframe thead th {\n        text-align: right;\n    }\n</style>\n<table border=\"1\" class=\"dataframe\">\n  <thead>\n    <tr style=\"text-align: right;\">\n      <th></th>\n      <th>href</th>\n      <th>uri</th>\n      <th>popularity</th>\n      <th>followers</th>\n      <th>id</th>\n      <th>name</th>\n      <th>genres</th>\n      <th>type</th>\n      <th>uid</th>\n      <th>create_time</th>\n      <th>update_time</th>\n      <th>read_time</th>\n      <th>url</th>\n      <th>image_url</th>\n    </tr>\n  </thead>\n  <tbody>\n    <tr>\n      <th>0</th>\n      <td>https://api.spotify.com/v1/artists/711MCceyCBc...</td>\n      <td>spotify:artist:711MCceyCBcFnzjGY4Q7Un</td>\n      <td>83</td>\n      <td>21527801</td>\n      <td>711MCceyCBcFnzjGY4Q7Un</td>\n      <td>AC/DC</td>\n      <td>[australian rock, hard rock, rock]</td>\n      <td>artist</td>\n      <td>uagVX8DeaePP88Qz5Vj2EtXstK03</td>\n      <td>2021-12-11 12:21:02.186210</td>\n      <td>2021-12-11 12:21:02.186210</td>\n      <td>2022-01-09 16:38:48.566406</td>\n      <td>https://open.spotify.com/artist/711MCceyCBcFnz...</td>\n      <td>https://i.scdn.co/image/ab6761610000e5ebc4c775...</td>\n    </tr>\n    <tr>\n      <th>1</th>\n      <td>https://api.spotify.com/v1/artists/3JsMj0DEzyW...</td>\n      <td>spotify:artist:3JsMj0DEzyWc0VDlHuy9Bx</td>\n      <td>71</td>\n      <td>2450429</td>\n      <td>3JsMj0DEzyWc0VDlHuy9Bx</td>\n      <td>Supertramp</td>\n      <td>[album rock, art rock, classic rock, glam rock...</td>\n      <td>artist</td>\n      <td>uagVX8DeaePP88Qz5Vj2EtXstK03</td>\n      <td>2021-12-11 12:21:02.186210</td>\n      <td>2021-12-11 12:21:02.186210</td>\n      <td>2022-01-09 16:38:48.566406</td>\n      <td>https://open.spotify.com/artist/3JsMj0DEzyWc0V...</td>\n      <td>https://i.scdn.co/image/eebed895cad509b17c7c6f...</td>\n    </tr>\n    <tr>\n      <th>2</th>\n      <td>https://api.spotify.com/v1/artists/11YTrgsi6Vj...</td>\n      <td>spotify:artist:11YTrgsi6VjRCkExQBY13k</td>\n      <td>50</td>\n      <td>115537</td>\n      <td>11YTrgsi6VjRCkExQBY13k</td>\n      <td>Wise Guys</td>\n      <td>[german pop, german rock, kabarett, liedermacher]</td>\n      <td>artist</td>\n      <td>uagVX8DeaePP88Qz5Vj2EtXstK03</td>\n      <td>2021-12-11 12:21:02.186210</td>\n      <td>2021-12-11 12:21:02.186210</td>\n      <td>2022-01-09 16:38:48.566406</td>\n      <td>https://open.spotify.com/artist/11YTrgsi6VjRCk...</td>\n      <td>https://i.scdn.co/image/4f1b2cabff7abd06fb17ed...</td>\n    </tr>\n    <tr>\n      <th>3</th>\n      <td>https://api.spotify.com/v1/artists/492hDmhPyuI...</td>\n      <td>spotify:artist:492hDmhPyuIjP3MgTcIqgm</td>\n      <td>55</td>\n      <td>301844</td>\n      <td>492hDmhPyuIjP3MgTcIqgm</td>\n      <td>Caro Emerald</td>\n      <td>[dutch pop, electro swing, nu jazz]</td>\n      <td>artist</td>\n      <td>uagVX8DeaePP88Qz5Vj2EtXstK03</td>\n      <td>2021-12-11 12:21:02.186210</td>\n      <td>2021-12-11 12:21:02.186210</td>\n      <td>2022-01-09 16:38:48.566406</td>\n      <td>https://open.spotify.com/artist/492hDmhPyuIjP3...</td>\n      <td>https://i.scdn.co/image/ab6761610000e5eb379e88...</td>\n    </tr>\n    <tr>\n      <th>4</th>\n      <td>https://api.spotify.com/v1/artists/06bDwgCHeMA...</td>\n      <td>spotify:artist:06bDwgCHeMAwhgI8il4Y5k</td>\n      <td>69</td>\n      <td>708011</td>\n      <td>06bDwgCHeMAwhgI8il4Y5k</td>\n      <td>Set It Off</td>\n      <td>[electropowerpop, modern rock, otacore, pixie,...</td>\n      <td>artist</td>\n      <td>uagVX8DeaePP88Qz5Vj2EtXstK03</td>\n      <td>2021-12-11 12:21:02.186210</td>\n      <td>2021-12-11 12:21:02.186210</td>\n      <td>2022-01-09 16:38:48.566406</td>\n      <td>https://open.spotify.com/artist/06bDwgCHeMAwhg...</td>\n      <td>https://i.scdn.co/image/ab6761610000e5eba368e7...</td>\n    </tr>\n  </tbody>\n</table>\n</div>"
     },
     "execution_count": 4,
     "metadata": {},
     "output_type": "execute_result"
    }
   ],
   "source": [
    "\n",
    "spotify = spark.read.format('delta').load('/home/mlops/project/DeltaLake/gold_data/spotify_cleansed_table')\n",
    "spotify.to_pandas_on_spark().head()\n"
   ],
   "metadata": {
    "collapsed": false,
    "pycharm": {
     "name": "#%%\n"
    }
   }
  }
 ],
 "metadata": {
  "kernelspec": {
   "display_name": "Python 3",
   "language": "python",
   "name": "python3"
  },
  "language_info": {
   "codemirror_mode": {
    "name": "ipython",
    "version": 2
   },
   "file_extension": ".py",
   "mimetype": "text/x-python",
   "name": "python",
   "nbconvert_exporter": "python",
   "pygments_lexer": "ipython2",
   "version": "2.7.6"
  }
 },
 "nbformat": 4,
 "nbformat_minor": 0
}