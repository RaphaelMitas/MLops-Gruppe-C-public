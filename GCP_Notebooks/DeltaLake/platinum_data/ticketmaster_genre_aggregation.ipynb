{
 "cells": [
  {
   "cell_type": "code",
   "execution_count": 2,
   "outputs": [],
   "source": [
    "import os\n",
    "os.environ[\"PYARROW_IGNORE_TIMEZONE\"] = \"1\"\n",
    "import pyspark\n",
    "from delta import *\n",
    "\n",
    "builder = pyspark.sql.SparkSession.builder.appName(\"MyApp\") \\\n",
    "    .config(\"spark.sql.extensions\", \"io.delta.sql.DeltaSparkSessionExtension\") \\\n",
    "    .config(\"spark.sql.catalog.spark_catalog\", \"org.apache.spark.sql.delta.catalog.DeltaCatalog\")\n",
    "\n",
    "spark = configure_spark_with_delta_pip(builder).getOrCreate()\n"
   ],
   "metadata": {
    "collapsed": false,
    "pycharm": {
     "name": "#%%\n"
    }
   }
  },
  {
   "cell_type": "code",
   "execution_count": 3,
   "outputs": [
    {
     "name": "stdout",
     "output_type": "stream",
     "text": [
      "+-----------------+--------------------+--------------------+--------------------+----------------+------------------+------------+--------------------+--------------------+---------------+-------------------+---------------------+------------------+----------------------+----------------------+--------------------+--------------------+-----------------+-----------------------+---------------------+----------------------+------------------------------+---------------------------+-----------------------+--------------------------+--------------------------+--------------------+--------------------------+---------------------------+----------------------------+\n",
      "|spotify_followers|      spotify_genres|        spotify_href|          spotify_id|    spotify_name|spotify_popularity|spotify_type|         spotify_uri|   ticketmaster_name|ticketmaster_id|ticketmaster_locale|ticketmaster_distance|ticketmaster_units|ticketmaster_price_min|ticketmaster_price_max|         spotify_url|   spotify_image_url|ticketmaster_date|ticketmaster_venue_name|ticketmaster_venue_id|ticketmaster_venue_url|ticketmaster_venue_postal_code|ticketmaster_venue_timezone|ticketmaster_venue_city|ticketmaster_venue_country|ticketmaster_venue_address|    ticketmaster_url|ticketmaster_artist_locale|ticketmaster_venue_latitude|ticketmaster_venue_longitude|\n",
      "+-----------------+--------------------+--------------------+--------------------+----------------+------------------+------------+--------------------+--------------------+---------------+-------------------+---------------------+------------------+----------------------+----------------------+--------------------+--------------------+-----------------+-----------------------+---------------------+----------------------+------------------------------+---------------------------+-----------------------+--------------------------+--------------------------+--------------------+--------------------------+---------------------------+----------------------------+\n",
      "|            66848|[album rock, mell...|https://api.spoti...|7uhvDINTTiD0XBrP9...|     The Hooters|              56.0|      artist|spotify:artist:7u...|         The Hooters|Z698xZC2Z17uPao|              en-us|                67.49|             MILES|                  35.0|                  35.0|https://open.spot...|https://i.scdn.co...|       2022-06-28|       Musiktheater REX|        Z698xZC2Za7r9|  https://www.ticke...|                         64625|              Europe/Berlin|               Bensheim|                   Germany|           Fabrikstraße 10|http://www.ticket...|                     en-us|                   49.68074|                     8.61964|\n",
      "|           760031|[francoton, pop u...|https://api.spoti...|7gU9VyFRN3JWPJ5oH...|            Tayc|              76.0|      artist|spotify:artist:7g...|                TAYC| rZ7SnyZ1Ad700d|              fr-fr|                67.72|             MILES|                  26.0|                  26.0|https://open.spot...|https://i.scdn.co...|       2021-12-16|            LA LAITERIE|          rZFSnyZeeFa|  https://www.ticke...|                         67000|               Europe/Paris|             Strasbourg|                    France|         13,rue du Hohwald|http://www.ticket...|                     en-us|                   48.57609|                    7.729777|\n",
      "|           876137|[electro swing, n...|https://api.spoti...|37J1PlAkhRK7yrZUt...|  Caravan Palace|              66.0|      artist|spotify:artist:37...|      CARAVAN PALACE| rZ7SnyZ1Adk7qv|              fr-fr|                67.72|             MILES|                  34.2|                  34.2|https://open.spot...|https://i.scdn.co...|       2021-12-18|            LA LAITERIE|          rZFSnyZeeFa|  https://www.ticke...|                         67000|               Europe/Paris|             Strasbourg|                    France|         13,rue du Hohwald|http://www.ticket...|                     en-us|                   48.57609|                    7.729777|\n",
      "|           139871|          [cali rap]|https://api.spoti...|1grN0519h2zYqpRtY...|      Larry June|              67.0|      artist|spotify:artist:1g...|               LARRY| rZ7SnyZ1AduOGE|              fr-fr|                67.72|             MILES|                  26.0|                  26.0|https://open.spot...|https://i.scdn.co...|       2022-01-15|            LA LAITERIE|          rZFSnyZeeFa|  https://www.ticke...|                         67000|               Europe/Paris|             Strasbourg|                    France|         13,rue du Hohwald|                null|                      null|                   48.57609|                    7.729777|\n",
      "|            40482|[electro swing, n...|https://api.spoti...|6jX8VHUJomYSfi5Ho...|   Lyre Le Temps|              47.0|      artist|spotify:artist:6j...|       LYRE LE TEMPS| rZ7SnyZ1AdGyqo|              fr-fr|                67.72|             MILES|                  17.0|                  17.0|https://open.spot...|https://i.scdn.co...|       2022-01-21|            LA LAITERIE|          rZFSnyZeeFa|  https://www.ticke...|                         67000|               Europe/Paris|             Strasbourg|                    France|         13,rue du Hohwald|                null|                      null|                   48.57609|                    7.729777|\n",
      "|             5707|         [neo metal]|https://api.spoti...|0gPevmj7hYafkYuME...|          Psykup|              22.0|      artist|spotify:artist:0g...|              PSYKUP| rZ7SnyZ1AdAYPb|              fr-fr|                67.72|             MILES|                  14.0|                  14.0|https://open.spot...|https://i.scdn.co...|       2022-01-22|     LA LAITERIE - Club|          rZFSnyZFAAa|  https://www.ticke...|                         67000|               Europe/Paris|             Strasbourg|                    France|        13, rue du Hohwald|http://www.ticket...|                     en-us|                   48.57609|                    7.729777|\n",
      "|           206263|[french hip hop, ...|https://api.spoti...|0QcZD8V0Ug1KINWBS...|         Alkpote|              55.0|      artist|spotify:artist:0Q...|             ALKPOTE| rZ7SnyZ1AdFePK|              fr-fr|                67.72|             MILES|                  22.0|                  22.0|https://open.spot...|https://i.scdn.co...|       2022-01-22|            LA LAITERIE|          rZFSnyZeeFa|  https://www.ticke...|                         67000|               Europe/Paris|             Strasbourg|                    France|         13,rue du Hohwald|                null|                      null|                   48.57609|                    7.729777|\n",
      "|           108045|[french indie pop...|https://api.spoti...|538TfjnJpRXI80MHY...| Feu! Chatterton|              55.0|      artist|spotify:artist:53...|     FEU! CHATTERTON| rZ7SnyZ1Ad13F9|              fr-fr|                67.72|             MILES|                  32.2|                  32.2|https://open.spot...|https://i.scdn.co...|       2022-01-23|            LA LAITERIE|          rZFSnyZeeFa|  https://www.ticke...|                         67000|               Europe/Paris|             Strasbourg|                    France|         13,rue du Hohwald|http://www.ticket...|                     en-us|                   48.57609|                    7.729777|\n",
      "|           143691|[chanson, electro...|https://api.spoti...|61CPKXT0bcKj8MKTN...|Juliette Armanet|              64.0|      artist|spotify:artist:61...|    JULIETTE ARMANET| rZ7SnyZ1Adukj0|              fr-fr|                67.72|             MILES|                  32.2|                  32.2|https://open.spot...|https://i.scdn.co...|       2022-01-26|            LA LAITERIE|          rZFSnyZeeFa|  https://www.ticke...|                         67000|               Europe/Paris|             Strasbourg|                    France|         13,rue du Hohwald|http://www.ticket...|                     en-us|                   48.57609|                    7.729777|\n",
      "|           328478|[french indie pop...|https://api.spoti...|5VTWoYYizcOY3uIKn...|        La Femme|              63.0|      artist|spotify:artist:5V...|LA FEMME - LA FEM...| rZ7SnyZ1AdasbK|              fr-fr|                67.72|             MILES|                  30.2|                  30.2|https://open.spot...|https://i.scdn.co...|       2022-01-27|            LA LAITERIE|          rZFSnyZeeFa|  https://www.ticke...|                         67000|               Europe/Paris|             Strasbourg|                    France|         13,rue du Hohwald|http://www.ticket...|                     en-us|                   48.57609|                    7.729777|\n",
      "|             3538|         [french oi]|https://api.spoti...|68RHz1ExombwfxIEh...|  Komintern Sect|              21.0|      artist|spotify:artist:68...|      KOMINTERN SECT| rZ7SnyZ1AduO_P|              fr-fr|                67.72|             MILES|                  20.0|                  20.0|https://open.spot...|https://i.scdn.co...|       2022-01-28|     LA LAITERIE - Club|          rZFSnyZFAAa|  https://www.ticke...|                         67000|               Europe/Paris|             Strasbourg|                    France|        13, rue du Hohwald|                null|                      null|                   48.57609|                    7.729777|\n",
      "|            59818|[french hip hop, ...|https://api.spoti...|1eTRyiHsWMoWKPD6s...|        Lujipeka|              63.0|      artist|spotify:artist:1e...|            LUJIPEKA| rZ7SnyZ1Adu_bN|              fr-fr|                67.72|             MILES|                  25.0|                  25.0|https://open.spot...|https://i.scdn.co...|       2022-01-29|            LA LAITERIE|          rZFSnyZeeFa|  https://www.ticke...|                         67000|               Europe/Paris|             Strasbourg|                    France|         13,rue du Hohwald|                null|                      null|                   48.57609|                    7.729777|\n",
      "|           314095|[french indie pop...|https://api.spoti...|4PwlsrN0t5mLN0C82...|   L'Impératrice|              64.0|      artist|spotify:artist:4P...|       L'IMPERATRICE| rZ7SnyZ1Ad1va8|              fr-fr|                67.72|             MILES|                  29.2|                  29.2|https://open.spot...|https://i.scdn.co...|       2022-02-03|            LA LAITERIE|          rZFSnyZeeFa|  https://www.ticke...|                         67000|               Europe/Paris|             Strasbourg|                    France|         13,rue du Hohwald|http://www.ticket...|                     en-us|                   48.57609|                    7.729777|\n",
      "|           172081|[electro dub, fre...|https://api.spoti...|52MTyKpEJBAnWj1oV...|         Danakil|              52.0|      artist|spotify:artist:52...|DANAKIL - DANAKIL...| rZ7SnyZ1Ad1k-8|              fr-fr|                67.72|             MILES|                  30.2|                  30.2|https://open.spot...|https://i.scdn.co...|       2022-02-04|            LA LAITERIE|          rZFSnyZeeFa|  https://www.ticke...|                         67000|               Europe/Paris|             Strasbourg|                    France|         13,rue du Hohwald|http://www.ticket...|                     en-us|                   48.57609|                    7.729777|\n",
      "|           126778|[french hip hop, ...|https://api.spoti...|4YUcg2ee9TxMNdjhA...|         Ashkidd|              57.0|      artist|spotify:artist:4Y...|             ASHKIDD| rZ7SnyZ1Adu90S|              fr-fr|                67.72|             MILES|                  26.0|                  26.0|https://open.spot...|https://i.scdn.co...|       2022-02-05|            LA LAITERIE|          rZFSnyZeeFa|  https://www.ticke...|                         67000|               Europe/Paris|             Strasbourg|                    France|         13,rue du Hohwald|http://www.ticket...|                     en-us|                   48.57609|                    7.729777|\n",
      "|            53536|[chamber psych, d...|https://api.spoti...|0BzJFLqchxKNQyEws...|         The KVB|              44.0|      artist|spotify:artist:0B...|             THE KVB| rZ7SnyZ1Adu_Ze|              fr-fr|                67.72|             MILES|                  17.0|                  17.0|https://open.spot...|https://i.scdn.co...|       2022-02-05|     LA LAITERIE - Club|          rZFSnyZFAAa|  https://www.ticke...|                         67000|               Europe/Paris|             Strasbourg|                    France|        13, rue du Hohwald|http://www.ticket...|                     en-us|                   48.57609|                    7.729777|\n",
      "|           370613|[art pop, brookly...|https://api.spoti...|5QdyldG4Fl4TPiOIe...|       Big Thief|              65.0|      artist|spotify:artist:5Q...|           BIG THIEF| rZ7SnyZ1Ad1_aO|              fr-fr|                67.72|             MILES|                  22.0|                  22.0|https://open.spot...|https://i.scdn.co...|       2022-02-08|            LA LAITERIE|          rZFSnyZeeFa|  https://www.ticke...|                         67000|               Europe/Paris|             Strasbourg|                    France|         13,rue du Hohwald|http://www.ticket...|                     en-us|                   48.57609|                    7.729777|\n",
      "|           272252|[gothic metal, go...|https://api.spoti...|5IRFMGI8aEtZdN07O...|           Tarja|              51.0|      artist|spotify:artist:5I...|       TARJA TURUNEN| rZ7SnyZ1Adea_6|              fr-fr|                67.72|             MILES|                  34.2|                  34.2|https://open.spot...|https://i.scdn.co...|       2022-02-09|            LA LAITERIE|          rZFSnyZeeFa|  https://www.ticke...|                         67000|               Europe/Paris|             Strasbourg|                    France|         13,rue du Hohwald|                null|                     en-us|                   48.57609|                    7.729777|\n",
      "|           460282|[french hip hop, ...|https://api.spoti...|66Ok6bgC570sHkw08...|            OBOY|              76.0|      artist|spotify:artist:66...|                OBOY| rZ7SnyZ1AduA3Z|              fr-fr|                67.72|             MILES|                  26.0|                  26.0|https://open.spot...|https://i.scdn.co...|       2022-02-12|            LA LAITERIE|          rZFSnyZeeFa|  https://www.ticke...|                         67000|               Europe/Paris|             Strasbourg|                    France|         13,rue du Hohwald|                null|                      null|                   48.57609|                    7.729777|\n",
      "|           352442|[downtempo, elect...|https://api.spoti...|5EP020iZcwBqHRnJf...|    Hooverphonic|              57.0|      artist|spotify:artist:5E...|        HOOVERPHONIC| rZ7SnyZ1Adak4y|              fr-fr|                67.72|             MILES|                  28.2|                  28.2|https://open.spot...|https://i.scdn.co...|       2022-02-18|            LA LAITERIE|          rZFSnyZeeFa|  https://www.ticke...|                         67000|               Europe/Paris|             Strasbourg|                    France|         13,rue du Hohwald|                null|                      null|                   48.57609|                    7.729777|\n",
      "+-----------------+--------------------+--------------------+--------------------+----------------+------------------+------------+--------------------+--------------------+---------------+-------------------+---------------------+------------------+----------------------+----------------------+--------------------+--------------------+-----------------+-----------------------+---------------------+----------------------+------------------------------+---------------------------+-----------------------+--------------------------+--------------------------+--------------------+--------------------------+---------------------------+----------------------------+\n",
      "only showing top 20 rows\n",
      "\n"
     ]
    }
   ],
   "source": [
    "ticketmaster = spark.read.format('delta').load('/home/mlops/project/DeltaLake/gold_data/ticketmaster_cleansed_table')\n",
    "ticketmaster.show()"
   ],
   "metadata": {
    "collapsed": false,
    "pycharm": {
     "name": "#%%\n"
    }
   }
  },
  {
   "cell_type": "code",
   "execution_count": 4,
   "outputs": [
    {
     "name": "stdout",
     "output_type": "stream",
     "text": [
      "+--------------+--------------------+--------------------+\n",
      "|        genres|       main_genre_18|        main_genre_9|\n",
      "+--------------+--------------------+--------------------+\n",
      "|           pop|                 Pop|                 Pop|\n",
      "|     dance pop|                 Pop|                 Pop|\n",
      "|           rap|     Rap and Hip-Hop|     Rap and Hip-Hop|\n",
      "|          rock|                Rock|Rock and Heavy Metal|\n",
      "|         latin|Latin American music|Latin American music|\n",
      "|       pop rap|                 Pop|                 Pop|\n",
      "|       hip hop|     Rap and Hip-Hop|     Rap and Hip-Hop|\n",
      "|   trap latino|Latin American music|Latin American music|\n",
      "|          trap|     Rap and Hip-Hop|     Rap and Hip-Hop|\n",
      "|   modern rock|                Rock|Rock and Heavy Metal|\n",
      "|           edm|Dance Music, Tech...|  Electronical music|\n",
      "| post-teen pop|                 Pop|                 Pop|\n",
      "|     reggaeton|Latin American music|Latin American music|\n",
      "|     pop dance|Dance Music, Tech...|  Electronical music|\n",
      "|     latin pop|                 Pop|                 Pop|\n",
      "|  classic rock|                Rock|Rock and Heavy Metal|\n",
      "|    electropop|                 Pop|                 Pop|\n",
      "|      pop rock|                Rock|Rock and Heavy Metal|\n",
      "|tropical house|Dance Music, Tech...|  Electronical music|\n",
      "|   mellow gold|                Rock|Rock and Heavy Metal|\n",
      "+--------------+--------------------+--------------------+\n",
      "only showing top 20 rows\n",
      "\n"
     ]
    }
   ],
   "source": [
    "genre_map = spark.read.format('delta').load('/home/mlops/project/DeltaLake/bronze_data/genre_map_table')\n",
    "genre_map.show()\n"
   ],
   "metadata": {
    "collapsed": false,
    "pycharm": {
     "name": "#%%\n"
    }
   }
  },
  {
   "cell_type": "code",
   "execution_count": 5,
   "outputs": [
    {
     "data": {
      "text/plain": "   spotify_followers                                                    spotify_genres                                               spotify_href              spotify_id    spotify_name  spotify_popularity spotify_type                            spotify_uri ticketmaster_name  ticketmaster_id ticketmaster_locale  ticketmaster_distance ticketmaster_units  ticketmaster_price_min  ticketmaster_price_max                                             spotify_url                                                 spotify_image_url ticketmaster_date ticketmaster_venue_name ticketmaster_venue_id                                                              ticketmaster_venue_url ticketmaster_venue_postal_code ticketmaster_venue_timezone ticketmaster_venue_city ticketmaster_venue_country ticketmaster_venue_address                           ticketmaster_url ticketmaster_artist_locale  ticketmaster_venue_latitude  ticketmaster_venue_longitude                    spotify_genres_9                      spotify_genres_18\n0              66848  [album rock, mellow gold, new wave pop, philly indie, soft rock]  https://api.spotify.com/v1/artists/7uhvDINTTiD0XBrP9fquN1  7uhvDINTTiD0XBrP9fquN1     The Hooters                56.0       artist  spotify:artist:7uhvDINTTiD0XBrP9fquN1       The Hooters  Z698xZC2Z17uPao               en-us                  67.49              MILES                    35.0                    35.0  https://open.spotify.com/artist/7uhvDINTTiD0XBrP9fquN1  https://i.scdn.co/image/ab6761610000e5eb15896b67a6576aa8ee9f6cb3        2022-06-28        Musiktheater REX         Z698xZC2Za7r9  https://www.ticketmaster.de/venue/musiktheater-rex-bensheim-tickets/benmusikre/749                          64625               Europe/Berlin                Bensheim                    Germany            Fabrikstraße 10   http://www.ticketmaster.de/artist/918988                      en-us                     49.68074                      8.619640         [Rock and Heavy Metal, Pop]                            [Rock, Pop]\n1             760031                                          [francoton, pop urbaine]  https://api.spotify.com/v1/artists/7gU9VyFRN3JWPJ5oHOil60  7gU9VyFRN3JWPJ5oHOil60            Tayc                76.0       artist  spotify:artist:7gU9VyFRN3JWPJ5oHOil60              TAYC   rZ7SnyZ1Ad700d               fr-fr                  67.72              MILES                    26.0                    26.0  https://open.spotify.com/artist/7gU9VyFRN3JWPJ5oHOil60  https://i.scdn.co/image/ab6761610000e5ebce9a6fa48c2beaf39ef9d599        2021-12-16             LA LAITERIE           rZFSnyZeeFa             https://www.ticketmaster.fr/fr/salle/la-laiterie-strasbourg/idsite/1105                          67000                Europe/Paris              Strasbourg                     France          13,rue du Hohwald  http://www.ticketmaster.fr/artist/1044372                      en-us                     48.57609                      7.729777                               [Pop]                                  [Pop]\n2             876137                                          [electro swing, nu jazz]  https://api.spotify.com/v1/artists/37J1PlAkhRK7yrZUtqaUpQ  37J1PlAkhRK7yrZUtqaUpQ  Caravan Palace                66.0       artist  spotify:artist:37J1PlAkhRK7yrZUtqaUpQ    CARAVAN PALACE   rZ7SnyZ1Adk7qv               fr-fr                  67.72              MILES                    34.2                    34.2  https://open.spotify.com/artist/37J1PlAkhRK7yrZUtqaUpQ  https://i.scdn.co/image/ab6761610000e5ebdedbe7030797b73b6a77e39f        2021-12-18             LA LAITERIE           rZFSnyZeeFa             https://www.ticketmaster.fr/fr/salle/la-laiterie-strasbourg/idsite/1105                          67000                Europe/Paris              Strasbourg                     France          13,rue du Hohwald   http://www.ticketmaster.fr/artist/141183                      en-us                     48.57609                      7.729777  [Electronical music, Rhythm music]  [Jazz, Dance Music, Techno and House]\n3             139871                                                        [cali rap]  https://api.spotify.com/v1/artists/1grN0519h2zYqpRtYbDZAl  1grN0519h2zYqpRtYbDZAl      Larry June                67.0       artist  spotify:artist:1grN0519h2zYqpRtYbDZAl             LARRY   rZ7SnyZ1AduOGE               fr-fr                  67.72              MILES                    26.0                    26.0  https://open.spotify.com/artist/1grN0519h2zYqpRtYbDZAl  https://i.scdn.co/image/ab6761610000e5eb1c0b980410ff1016569fb371        2022-01-15             LA LAITERIE           rZFSnyZeeFa             https://www.ticketmaster.fr/fr/salle/la-laiterie-strasbourg/idsite/1105                          67000                Europe/Paris              Strasbourg                     France          13,rue du Hohwald                                       None                       None                     48.57609                      7.729777                   [Rap and Hip-Hop]                      [Rap and Hip-Hop]\n4              40482                                          [electro swing, nu jazz]  https://api.spotify.com/v1/artists/6jX8VHUJomYSfi5Hobdmmn  6jX8VHUJomYSfi5Hobdmmn   Lyre Le Temps                47.0       artist  spotify:artist:6jX8VHUJomYSfi5Hobdmmn     LYRE LE TEMPS   rZ7SnyZ1AdGyqo               fr-fr                  67.72              MILES                    17.0                    17.0  https://open.spotify.com/artist/6jX8VHUJomYSfi5Hobdmmn  https://i.scdn.co/image/ab6761610000e5eb78c46606d9a02241096a9a17        2022-01-21             LA LAITERIE           rZFSnyZeeFa             https://www.ticketmaster.fr/fr/salle/la-laiterie-strasbourg/idsite/1105                          67000                Europe/Paris              Strasbourg                     France          13,rue du Hohwald                                       None                       None                     48.57609                      7.729777  [Electronical music, Rhythm music]  [Jazz, Dance Music, Techno and House]",
      "text/html": "<div>\n<style scoped>\n    .dataframe tbody tr th:only-of-type {\n        vertical-align: middle;\n    }\n\n    .dataframe tbody tr th {\n        vertical-align: top;\n    }\n\n    .dataframe thead th {\n        text-align: right;\n    }\n</style>\n<table border=\"1\" class=\"dataframe\">\n  <thead>\n    <tr style=\"text-align: right;\">\n      <th></th>\n      <th>spotify_followers</th>\n      <th>spotify_genres</th>\n      <th>spotify_href</th>\n      <th>spotify_id</th>\n      <th>spotify_name</th>\n      <th>spotify_popularity</th>\n      <th>spotify_type</th>\n      <th>spotify_uri</th>\n      <th>ticketmaster_name</th>\n      <th>ticketmaster_id</th>\n      <th>ticketmaster_locale</th>\n      <th>ticketmaster_distance</th>\n      <th>ticketmaster_units</th>\n      <th>ticketmaster_price_min</th>\n      <th>ticketmaster_price_max</th>\n      <th>spotify_url</th>\n      <th>spotify_image_url</th>\n      <th>ticketmaster_date</th>\n      <th>ticketmaster_venue_name</th>\n      <th>ticketmaster_venue_id</th>\n      <th>ticketmaster_venue_url</th>\n      <th>ticketmaster_venue_postal_code</th>\n      <th>ticketmaster_venue_timezone</th>\n      <th>ticketmaster_venue_city</th>\n      <th>ticketmaster_venue_country</th>\n      <th>ticketmaster_venue_address</th>\n      <th>ticketmaster_url</th>\n      <th>ticketmaster_artist_locale</th>\n      <th>ticketmaster_venue_latitude</th>\n      <th>ticketmaster_venue_longitude</th>\n      <th>spotify_genres_9</th>\n      <th>spotify_genres_18</th>\n    </tr>\n  </thead>\n  <tbody>\n    <tr>\n      <th>0</th>\n      <td>66848</td>\n      <td>[album rock, mellow gold, new wave pop, philly...</td>\n      <td>https://api.spotify.com/v1/artists/7uhvDINTTiD...</td>\n      <td>7uhvDINTTiD0XBrP9fquN1</td>\n      <td>The Hooters</td>\n      <td>56.0</td>\n      <td>artist</td>\n      <td>spotify:artist:7uhvDINTTiD0XBrP9fquN1</td>\n      <td>The Hooters</td>\n      <td>Z698xZC2Z17uPao</td>\n      <td>en-us</td>\n      <td>67.49</td>\n      <td>MILES</td>\n      <td>35.0</td>\n      <td>35.0</td>\n      <td>https://open.spotify.com/artist/7uhvDINTTiD0XB...</td>\n      <td>https://i.scdn.co/image/ab6761610000e5eb15896b...</td>\n      <td>2022-06-28</td>\n      <td>Musiktheater REX</td>\n      <td>Z698xZC2Za7r9</td>\n      <td>https://www.ticketmaster.de/venue/musiktheater...</td>\n      <td>64625</td>\n      <td>Europe/Berlin</td>\n      <td>Bensheim</td>\n      <td>Germany</td>\n      <td>Fabrikstraße 10</td>\n      <td>http://www.ticketmaster.de/artist/918988</td>\n      <td>en-us</td>\n      <td>49.68074</td>\n      <td>8.619640</td>\n      <td>[Rock and Heavy Metal, Pop]</td>\n      <td>[Rock, Pop]</td>\n    </tr>\n    <tr>\n      <th>1</th>\n      <td>760031</td>\n      <td>[francoton, pop urbaine]</td>\n      <td>https://api.spotify.com/v1/artists/7gU9VyFRN3J...</td>\n      <td>7gU9VyFRN3JWPJ5oHOil60</td>\n      <td>Tayc</td>\n      <td>76.0</td>\n      <td>artist</td>\n      <td>spotify:artist:7gU9VyFRN3JWPJ5oHOil60</td>\n      <td>TAYC</td>\n      <td>rZ7SnyZ1Ad700d</td>\n      <td>fr-fr</td>\n      <td>67.72</td>\n      <td>MILES</td>\n      <td>26.0</td>\n      <td>26.0</td>\n      <td>https://open.spotify.com/artist/7gU9VyFRN3JWPJ...</td>\n      <td>https://i.scdn.co/image/ab6761610000e5ebce9a6f...</td>\n      <td>2021-12-16</td>\n      <td>LA LAITERIE</td>\n      <td>rZFSnyZeeFa</td>\n      <td>https://www.ticketmaster.fr/fr/salle/la-laiter...</td>\n      <td>67000</td>\n      <td>Europe/Paris</td>\n      <td>Strasbourg</td>\n      <td>France</td>\n      <td>13,rue du Hohwald</td>\n      <td>http://www.ticketmaster.fr/artist/1044372</td>\n      <td>en-us</td>\n      <td>48.57609</td>\n      <td>7.729777</td>\n      <td>[Pop]</td>\n      <td>[Pop]</td>\n    </tr>\n    <tr>\n      <th>2</th>\n      <td>876137</td>\n      <td>[electro swing, nu jazz]</td>\n      <td>https://api.spotify.com/v1/artists/37J1PlAkhRK...</td>\n      <td>37J1PlAkhRK7yrZUtqaUpQ</td>\n      <td>Caravan Palace</td>\n      <td>66.0</td>\n      <td>artist</td>\n      <td>spotify:artist:37J1PlAkhRK7yrZUtqaUpQ</td>\n      <td>CARAVAN PALACE</td>\n      <td>rZ7SnyZ1Adk7qv</td>\n      <td>fr-fr</td>\n      <td>67.72</td>\n      <td>MILES</td>\n      <td>34.2</td>\n      <td>34.2</td>\n      <td>https://open.spotify.com/artist/37J1PlAkhRK7yr...</td>\n      <td>https://i.scdn.co/image/ab6761610000e5ebdedbe7...</td>\n      <td>2021-12-18</td>\n      <td>LA LAITERIE</td>\n      <td>rZFSnyZeeFa</td>\n      <td>https://www.ticketmaster.fr/fr/salle/la-laiter...</td>\n      <td>67000</td>\n      <td>Europe/Paris</td>\n      <td>Strasbourg</td>\n      <td>France</td>\n      <td>13,rue du Hohwald</td>\n      <td>http://www.ticketmaster.fr/artist/141183</td>\n      <td>en-us</td>\n      <td>48.57609</td>\n      <td>7.729777</td>\n      <td>[Electronical music, Rhythm music]</td>\n      <td>[Jazz, Dance Music, Techno and House]</td>\n    </tr>\n    <tr>\n      <th>3</th>\n      <td>139871</td>\n      <td>[cali rap]</td>\n      <td>https://api.spotify.com/v1/artists/1grN0519h2z...</td>\n      <td>1grN0519h2zYqpRtYbDZAl</td>\n      <td>Larry June</td>\n      <td>67.0</td>\n      <td>artist</td>\n      <td>spotify:artist:1grN0519h2zYqpRtYbDZAl</td>\n      <td>LARRY</td>\n      <td>rZ7SnyZ1AduOGE</td>\n      <td>fr-fr</td>\n      <td>67.72</td>\n      <td>MILES</td>\n      <td>26.0</td>\n      <td>26.0</td>\n      <td>https://open.spotify.com/artist/1grN0519h2zYqp...</td>\n      <td>https://i.scdn.co/image/ab6761610000e5eb1c0b98...</td>\n      <td>2022-01-15</td>\n      <td>LA LAITERIE</td>\n      <td>rZFSnyZeeFa</td>\n      <td>https://www.ticketmaster.fr/fr/salle/la-laiter...</td>\n      <td>67000</td>\n      <td>Europe/Paris</td>\n      <td>Strasbourg</td>\n      <td>France</td>\n      <td>13,rue du Hohwald</td>\n      <td>None</td>\n      <td>None</td>\n      <td>48.57609</td>\n      <td>7.729777</td>\n      <td>[Rap and Hip-Hop]</td>\n      <td>[Rap and Hip-Hop]</td>\n    </tr>\n    <tr>\n      <th>4</th>\n      <td>40482</td>\n      <td>[electro swing, nu jazz]</td>\n      <td>https://api.spotify.com/v1/artists/6jX8VHUJomY...</td>\n      <td>6jX8VHUJomYSfi5Hobdmmn</td>\n      <td>Lyre Le Temps</td>\n      <td>47.0</td>\n      <td>artist</td>\n      <td>spotify:artist:6jX8VHUJomYSfi5Hobdmmn</td>\n      <td>LYRE LE TEMPS</td>\n      <td>rZ7SnyZ1AdGyqo</td>\n      <td>fr-fr</td>\n      <td>67.72</td>\n      <td>MILES</td>\n      <td>17.0</td>\n      <td>17.0</td>\n      <td>https://open.spotify.com/artist/6jX8VHUJomYSfi...</td>\n      <td>https://i.scdn.co/image/ab6761610000e5eb78c466...</td>\n      <td>2022-01-21</td>\n      <td>LA LAITERIE</td>\n      <td>rZFSnyZeeFa</td>\n      <td>https://www.ticketmaster.fr/fr/salle/la-laiter...</td>\n      <td>67000</td>\n      <td>Europe/Paris</td>\n      <td>Strasbourg</td>\n      <td>France</td>\n      <td>13,rue du Hohwald</td>\n      <td>None</td>\n      <td>None</td>\n      <td>48.57609</td>\n      <td>7.729777</td>\n      <td>[Electronical music, Rhythm music]</td>\n      <td>[Jazz, Dance Music, Techno and House]</td>\n    </tr>\n  </tbody>\n</table>\n</div>"
     },
     "execution_count": 5,
     "metadata": {},
     "output_type": "execute_result"
    }
   ],
   "source": [
    "from pyspark.sql.types import Row\n",
    "\n",
    "\n",
    "ticketmaster_genre_agg = ticketmaster\n",
    "\n",
    "\n",
    "genre_list = genre_map.to_pandas_on_spark().to_dict('list')\n",
    "def f(row):\n",
    "\n",
    "    genre_set_9 = set()\n",
    "    genre_set_18 = set()\n",
    "    for x in row.spotify_genres:\n",
    "        if x in genre_list['genres']:\n",
    "            index = genre_list['genres'].index(x)\n",
    "            genre_set_9.add(genre_list['main_genre_9'][index])\n",
    "            genre_set_18.add(genre_list['main_genre_18'][index])\n",
    "    row = row.asDict()\n",
    "    row['spotify_genres_9'] = list(genre_set_9)\n",
    "    row['spotify_genres_18'] = list(genre_set_18)\n",
    "    return Row(**row)\n",
    "\n",
    "ticketmaster_genre_agg = ticketmaster_genre_agg.rdd.map(f)\n",
    "ticketmaster_genre_agg = ticketmaster_genre_agg.toDF()\n",
    "ticketmaster_genre_agg.to_pandas_on_spark().head()"
   ],
   "metadata": {
    "collapsed": false,
    "pycharm": {
     "name": "#%%  @TODO\n"
    }
   }
  },
  {
   "cell_type": "code",
   "execution_count": null,
   "outputs": [],
   "source": [
    "\n",
    "ticketmaster_genre_agg.write.format(\"delta\").mode(\"overwrite\").save(\"/home/mlops/project/DeltaLake/platinum_data/ticketmaster_genre_agg_table\")"
   ],
   "metadata": {
    "collapsed": false,
    "pycharm": {
     "name": "#%%\n"
    }
   }
  },
  {
   "cell_type": "code",
   "execution_count": null,
   "outputs": [],
   "source": [
    "\n",
    "ticketmaster = spark.read.format('delta').load('/home/mlops/project/DeltaLake/platinum_data/ticketmaster_genre_agg_table')\n",
    "ticketmaster.to_pandas_on_spark()"
   ],
   "metadata": {
    "collapsed": false,
    "pycharm": {
     "name": "#%%\n"
    }
   }
  },
  {
   "cell_type": "code",
   "execution_count": null,
   "outputs": [],
   "source": [],
   "metadata": {
    "collapsed": false,
    "pycharm": {
     "name": "#%%\n"
    }
   }
  }
 ],
 "metadata": {
  "kernelspec": {
   "display_name": "Python 3",
   "language": "python",
   "name": "python3"
  },
  "language_info": {
   "codemirror_mode": {
    "name": "ipython",
    "version": 2
   },
   "file_extension": ".py",
   "mimetype": "text/x-python",
   "name": "python",
   "nbconvert_exporter": "python",
   "pygments_lexer": "ipython2",
   "version": "2.7.6"
  }
 },
 "nbformat": 4,
 "nbformat_minor": 0
}