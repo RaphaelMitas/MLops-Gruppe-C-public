{
 "cells": [
  {
   "cell_type": "code",
   "execution_count": 233,
   "outputs": [],
   "source": [
    "import numpy as np\n",
    "import pyspark\n",
    "from delta import DeltaTable, configure_spark_with_delta_pip\n",
    "\n",
    "builder = pyspark.sql.SparkSession.builder.appName(\"MyApp\") \\\n",
    "            .config(\"spark.sql.extensions\", \"io.delta.sql.DeltaSparkSessionExtension\") \\\n",
    "            .config(\"spark.sql.catalog.spark_catalog\", \"org.apache.spark.sql.delta.catalog.DeltaCatalog\")\n",
    "\n",
    "spark = configure_spark_with_delta_pip(builder).getOrCreate()\n"
   ],
   "metadata": {
    "collapsed": false,
    "pycharm": {
     "name": "#%%\n"
    }
   }
  },
  {
   "cell_type": "code",
   "execution_count": 234,
   "outputs": [],
   "source": [
    "\n",
    "userdata = DeltaTable.forPath(spark, '/home/mlops/project/DeltaLake/platinum_data/spotify_genre_agg_table')\n",
    "\n",
    "userdataDF = userdata.toDF()"
   ],
   "metadata": {
    "collapsed": false,
    "pycharm": {
     "name": "#%%\n"
    }
   }
  },
  {
   "cell_type": "code",
   "execution_count": 269,
   "outputs": [
    {
     "data": {
      "text/plain": "                    spotify_uid        spotify_create_time  \\\n0  fiFDr5jQg0aUSfSHw59g1rQFVSs1 2021-12-29 14:41:10.781769   \n1  Q3t2J73kpIcMqGBmB1ZEqLANtDz1 2021-12-06 18:23:20.788728   \n2  uagVX8DeaePP88Qz5Vj2EtXstK03 2021-12-11 12:21:02.186210   \n3  UrZpLI2DysWJIVCmLNwTW5JJJO62 2022-01-09 15:36:20.930481   \n4  VQEI5Ea2AsP2tjLTlfBcmL0wn7t2 2021-12-06 15:01:05.156199   \n5  f6TABm8ygYT5P1NbtF7DQEk6bv82 2021-12-06 18:36:31.549954   \n\n         spotify_update_time          spotify_read_time  \\\n0 2021-12-29 14:41:45.770151 2022-02-04 19:24:43.689808   \n1 2022-01-08 11:26:15.073020 2022-02-04 19:24:43.689808   \n2 2021-12-11 12:21:02.186210 2022-02-04 19:24:43.689808   \n3 2022-01-09 15:36:20.930481 2022-02-04 19:24:43.689808   \n4 2022-01-31 12:54:50.318255 2022-02-04 19:24:43.689808   \n5 2021-12-25 13:56:33.876422 2022-02-04 19:24:43.689808   \n\n                                      spotify_genres  \\\n0  {'social media pop': 2, 'rebel blues': 4, 'cou...   \n1  {'miami hip hop': 3, 'nz pop': 1, 'piano rock'...   \n2  {'finnish heavy metal': 1, 'rock-and-roll': 1,...   \n3  {'filter house': 2, 'new rave': 1, 'japanese c...   \n4  {'social media pop': 3, 'candy pop': 1, 'nouve...   \n5  {'italian pop': 1, 'melodic hard rock': 1, 'in...   \n\n                                    spotify_genres_9  \\\n0  {'Pop': 21, 'Rhythm music': 4, 'Alternative': ...   \n1  {'Pop': 30, 'Rhythm music': 1, 'Alternative': ...   \n2  {'Pop': 10, 'Rhythm music': 3, 'Alternative': ...   \n3  {'Pop': 11, 'Rhythm music': 4, 'Alternative': ...   \n4  {'Pop': 25, 'Rhythm music': 1, 'Alternative': ...   \n5              {'Pop': 1, 'Rock and Heavy Metal': 2}   \n\n                                   spotify_genres_18  spotify_followers  \\\n0  {'Rock': 16, 'Dance Music, Techno and House': ...       2.693735e+06   \n1  {'Pop': 30, 'Utility': 1, 'Rock': 8, 'Not_assi...       1.167529e+07   \n2  {'Pop': 9, 'Heavy Metal': 21, 'Industrial and ...       4.858708e+06   \n3  {'Rock': 14, 'Dance Music, Techno and House': ...       2.468938e+06   \n4  {'Pop': 25, 'Heavy Metal': 10, 'Utility': 2, '...       7.276814e+06   \n5                              {'Pop': 1, 'Rock': 2}       2.492494e+06   \n\n   spotify_popularity                 spotify_genres_1  \n0           65.066667                              Pop  \n1           77.608696                              Pop  \n2           69.702128             Rock and Heavy Metal  \n3           63.487805  Not_assignable_no_concert_music  \n4           70.500000             Rock and Heavy Metal  \n5           53.500000             Rock and Heavy Metal  ",
      "text/html": "<div>\n<style scoped>\n    .dataframe tbody tr th:only-of-type {\n        vertical-align: middle;\n    }\n\n    .dataframe tbody tr th {\n        vertical-align: top;\n    }\n\n    .dataframe thead th {\n        text-align: right;\n    }\n</style>\n<table border=\"1\" class=\"dataframe\">\n  <thead>\n    <tr style=\"text-align: right;\">\n      <th></th>\n      <th>spotify_uid</th>\n      <th>spotify_create_time</th>\n      <th>spotify_update_time</th>\n      <th>spotify_read_time</th>\n      <th>spotify_genres</th>\n      <th>spotify_genres_9</th>\n      <th>spotify_genres_18</th>\n      <th>spotify_followers</th>\n      <th>spotify_popularity</th>\n      <th>spotify_genres_1</th>\n    </tr>\n  </thead>\n  <tbody>\n    <tr>\n      <th>0</th>\n      <td>fiFDr5jQg0aUSfSHw59g1rQFVSs1</td>\n      <td>2021-12-29 14:41:10.781769</td>\n      <td>2021-12-29 14:41:45.770151</td>\n      <td>2022-02-04 19:24:43.689808</td>\n      <td>{'social media pop': 2, 'rebel blues': 4, 'cou...</td>\n      <td>{'Pop': 21, 'Rhythm music': 4, 'Alternative': ...</td>\n      <td>{'Rock': 16, 'Dance Music, Techno and House': ...</td>\n      <td>2.693735e+06</td>\n      <td>65.066667</td>\n      <td>Pop</td>\n    </tr>\n    <tr>\n      <th>1</th>\n      <td>Q3t2J73kpIcMqGBmB1ZEqLANtDz1</td>\n      <td>2021-12-06 18:23:20.788728</td>\n      <td>2022-01-08 11:26:15.073020</td>\n      <td>2022-02-04 19:24:43.689808</td>\n      <td>{'miami hip hop': 3, 'nz pop': 1, 'piano rock'...</td>\n      <td>{'Pop': 30, 'Rhythm music': 1, 'Alternative': ...</td>\n      <td>{'Pop': 30, 'Utility': 1, 'Rock': 8, 'Not_assi...</td>\n      <td>1.167529e+07</td>\n      <td>77.608696</td>\n      <td>Pop</td>\n    </tr>\n    <tr>\n      <th>2</th>\n      <td>uagVX8DeaePP88Qz5Vj2EtXstK03</td>\n      <td>2021-12-11 12:21:02.186210</td>\n      <td>2021-12-11 12:21:02.186210</td>\n      <td>2022-02-04 19:24:43.689808</td>\n      <td>{'finnish heavy metal': 1, 'rock-and-roll': 1,...</td>\n      <td>{'Pop': 10, 'Rhythm music': 3, 'Alternative': ...</td>\n      <td>{'Pop': 9, 'Heavy Metal': 21, 'Industrial and ...</td>\n      <td>4.858708e+06</td>\n      <td>69.702128</td>\n      <td>Rock and Heavy Metal</td>\n    </tr>\n    <tr>\n      <th>3</th>\n      <td>UrZpLI2DysWJIVCmLNwTW5JJJO62</td>\n      <td>2022-01-09 15:36:20.930481</td>\n      <td>2022-01-09 15:36:20.930481</td>\n      <td>2022-02-04 19:24:43.689808</td>\n      <td>{'filter house': 2, 'new rave': 1, 'japanese c...</td>\n      <td>{'Pop': 11, 'Rhythm music': 4, 'Alternative': ...</td>\n      <td>{'Rock': 14, 'Dance Music, Techno and House': ...</td>\n      <td>2.468938e+06</td>\n      <td>63.487805</td>\n      <td>Not_assignable_no_concert_music</td>\n    </tr>\n    <tr>\n      <th>4</th>\n      <td>VQEI5Ea2AsP2tjLTlfBcmL0wn7t2</td>\n      <td>2021-12-06 15:01:05.156199</td>\n      <td>2022-01-31 12:54:50.318255</td>\n      <td>2022-02-04 19:24:43.689808</td>\n      <td>{'social media pop': 3, 'candy pop': 1, 'nouve...</td>\n      <td>{'Pop': 25, 'Rhythm music': 1, 'Alternative': ...</td>\n      <td>{'Pop': 25, 'Heavy Metal': 10, 'Utility': 2, '...</td>\n      <td>7.276814e+06</td>\n      <td>70.500000</td>\n      <td>Rock and Heavy Metal</td>\n    </tr>\n    <tr>\n      <th>5</th>\n      <td>f6TABm8ygYT5P1NbtF7DQEk6bv82</td>\n      <td>2021-12-06 18:36:31.549954</td>\n      <td>2021-12-25 13:56:33.876422</td>\n      <td>2022-02-04 19:24:43.689808</td>\n      <td>{'italian pop': 1, 'melodic hard rock': 1, 'in...</td>\n      <td>{'Pop': 1, 'Rock and Heavy Metal': 2}</td>\n      <td>{'Pop': 1, 'Rock': 2}</td>\n      <td>2.492494e+06</td>\n      <td>53.500000</td>\n      <td>Rock and Heavy Metal</td>\n    </tr>\n  </tbody>\n</table>\n</div>"
     },
     "execution_count": 269,
     "metadata": {},
     "output_type": "execute_result"
    }
   ],
   "source": [
    "userdata.toDF().toPandas()"
   ],
   "metadata": {
    "collapsed": false,
    "pycharm": {
     "name": "#%%\n"
    }
   }
  },
  {
   "cell_type": "code",
   "execution_count": 273,
   "outputs": [],
   "source": [
    "user =  userdataDF.select('spotify_followers', 'spotify_popularity')"
   ],
   "metadata": {
    "collapsed": false,
    "pycharm": {
     "name": "#%%\n"
    }
   }
  },
  {
   "cell_type": "code",
   "execution_count": 274,
   "outputs": [],
   "source": [
    "import tensorflow_decision_forests as tfdf\n",
    "import tensorflow as tf\n",
    "\n",
    "manual_model = tf.keras.models.load_model(\"/home/mlops/project/TFX/pipelines/clean_TFX_pipeline/Trainer/model/75/Format-Serving\")"
   ],
   "metadata": {
    "collapsed": false,
    "pycharm": {
     "name": "#%%\n"
    }
   }
  },
  {
   "cell_type": "code",
   "execution_count": 275,
   "outputs": [
    {
     "data": {
      "text/plain": "          0         1    2         3         4    5         6    7    8\n0  0.959999  0.040000  0.0  0.000000  0.000000  0.0  0.000000  0.0  0.0\n1  0.006667  0.000000  0.0  0.003333  0.003333  0.0  0.986666  0.0  0.0\n2  0.493333  0.506666  0.0  0.000000  0.000000  0.0  0.000000  0.0  0.0\n3  0.929999  0.070000  0.0  0.000000  0.000000  0.0  0.000000  0.0  0.0\n4  0.996666  0.003333  0.0  0.000000  0.000000  0.0  0.000000  0.0  0.0\n5  0.659999  0.340000  0.0  0.000000  0.000000  0.0  0.000000  0.0  0.0",
      "text/html": "<div>\n<style scoped>\n    .dataframe tbody tr th:only-of-type {\n        vertical-align: middle;\n    }\n\n    .dataframe tbody tr th {\n        vertical-align: top;\n    }\n\n    .dataframe thead th {\n        text-align: right;\n    }\n</style>\n<table border=\"1\" class=\"dataframe\">\n  <thead>\n    <tr style=\"text-align: right;\">\n      <th></th>\n      <th>0</th>\n      <th>1</th>\n      <th>2</th>\n      <th>3</th>\n      <th>4</th>\n      <th>5</th>\n      <th>6</th>\n      <th>7</th>\n      <th>8</th>\n    </tr>\n  </thead>\n  <tbody>\n    <tr>\n      <th>0</th>\n      <td>0.959999</td>\n      <td>0.040000</td>\n      <td>0.0</td>\n      <td>0.000000</td>\n      <td>0.000000</td>\n      <td>0.0</td>\n      <td>0.000000</td>\n      <td>0.0</td>\n      <td>0.0</td>\n    </tr>\n    <tr>\n      <th>1</th>\n      <td>0.006667</td>\n      <td>0.000000</td>\n      <td>0.0</td>\n      <td>0.003333</td>\n      <td>0.003333</td>\n      <td>0.0</td>\n      <td>0.986666</td>\n      <td>0.0</td>\n      <td>0.0</td>\n    </tr>\n    <tr>\n      <th>2</th>\n      <td>0.493333</td>\n      <td>0.506666</td>\n      <td>0.0</td>\n      <td>0.000000</td>\n      <td>0.000000</td>\n      <td>0.0</td>\n      <td>0.000000</td>\n      <td>0.0</td>\n      <td>0.0</td>\n    </tr>\n    <tr>\n      <th>3</th>\n      <td>0.929999</td>\n      <td>0.070000</td>\n      <td>0.0</td>\n      <td>0.000000</td>\n      <td>0.000000</td>\n      <td>0.0</td>\n      <td>0.000000</td>\n      <td>0.0</td>\n      <td>0.0</td>\n    </tr>\n    <tr>\n      <th>4</th>\n      <td>0.996666</td>\n      <td>0.003333</td>\n      <td>0.0</td>\n      <td>0.000000</td>\n      <td>0.000000</td>\n      <td>0.0</td>\n      <td>0.000000</td>\n      <td>0.0</td>\n      <td>0.0</td>\n    </tr>\n    <tr>\n      <th>5</th>\n      <td>0.659999</td>\n      <td>0.340000</td>\n      <td>0.0</td>\n      <td>0.000000</td>\n      <td>0.000000</td>\n      <td>0.0</td>\n      <td>0.000000</td>\n      <td>0.0</td>\n      <td>0.0</td>\n    </tr>\n  </tbody>\n</table>\n</div>"
     },
     "execution_count": 275,
     "metadata": {},
     "output_type": "execute_result"
    }
   ],
   "source": [
    "import pandas as pd\n",
    "tf_dataset_test = tfdf.keras.pd_dataframe_to_tf_dataset(user.toPandas())\n",
    "\n",
    "predictions = manual_model.predict(tf_dataset_test)\n",
    "pd.DataFrame(predictions)"
   ],
   "metadata": {
    "collapsed": false,
    "pycharm": {
     "name": "#%%\n"
    }
   }
  },
  {
   "cell_type": "code",
   "execution_count": 276,
   "outputs": [],
   "source": [
    "import firebase_admin\n",
    "from firebase_admin import credentials\n",
    "from firebase_admin import firestore\n",
    "\n",
    "cred = credentials.Certificate(\"/home/mlops/project/DeltaLake/firebaseServiceAccountKey.json\")\n",
    "firebase_admin.initialize_app(cred)\n",
    "db = firestore.client()"
   ],
   "metadata": {
    "collapsed": false,
    "pycharm": {
     "name": "#%%\n"
    }
   }
  },
  {
   "cell_type": "code",
   "execution_count": 282,
   "outputs": [
    {
     "data": {
      "text/plain": "                    spotify_uid        spotify_create_time  \\\n0  fiFDr5jQg0aUSfSHw59g1rQFVSs1 2021-12-29 14:41:10.781769   \n1  Q3t2J73kpIcMqGBmB1ZEqLANtDz1 2021-12-06 18:23:20.788728   \n2  uagVX8DeaePP88Qz5Vj2EtXstK03 2021-12-11 12:21:02.186210   \n3  UrZpLI2DysWJIVCmLNwTW5JJJO62 2022-01-09 15:36:20.930481   \n4  VQEI5Ea2AsP2tjLTlfBcmL0wn7t2 2021-12-06 15:01:05.156199   \n5  f6TABm8ygYT5P1NbtF7DQEk6bv82 2021-12-06 18:36:31.549954   \n\n         spotify_update_time          spotify_read_time  \\\n0 2021-12-29 14:41:45.770151 2022-02-04 19:24:43.689808   \n1 2022-01-08 11:26:15.073020 2022-02-04 19:24:43.689808   \n2 2021-12-11 12:21:02.186210 2022-02-04 19:24:43.689808   \n3 2022-01-09 15:36:20.930481 2022-02-04 19:24:43.689808   \n4 2022-01-31 12:54:50.318255 2022-02-04 19:24:43.689808   \n5 2021-12-25 13:56:33.876422 2022-02-04 19:24:43.689808   \n\n                                      spotify_genres  \\\n0  {'social media pop': 2, 'rebel blues': 4, 'cou...   \n1  {'miami hip hop': 3, 'nz pop': 1, 'piano rock'...   \n2  {'finnish heavy metal': 1, 'rock-and-roll': 1,...   \n3  {'filter house': 2, 'new rave': 1, 'japanese c...   \n4  {'social media pop': 3, 'candy pop': 1, 'nouve...   \n5  {'italian pop': 1, 'melodic hard rock': 1, 'in...   \n\n                                    spotify_genres_9  \\\n0  {'Pop': 21, 'Rhythm music': 4, 'Alternative': ...   \n1  {'Pop': 30, 'Rhythm music': 1, 'Alternative': ...   \n2  {'Pop': 10, 'Rhythm music': 3, 'Alternative': ...   \n3  {'Pop': 11, 'Rhythm music': 4, 'Alternative': ...   \n4  {'Pop': 25, 'Rhythm music': 1, 'Alternative': ...   \n5              {'Pop': 1, 'Rock and Heavy Metal': 2}   \n\n                                   spotify_genres_18  spotify_followers  \\\n0  {'Rock': 16, 'Dance Music, Techno and House': ...       2.693735e+06   \n1  {'Pop': 30, 'Utility': 1, 'Rock': 8, 'Not_assi...       1.167529e+07   \n2  {'Pop': 9, 'Heavy Metal': 21, 'Industrial and ...       4.858708e+06   \n3  {'Rock': 14, 'Dance Music, Techno and House': ...       2.468938e+06   \n4  {'Pop': 25, 'Heavy Metal': 10, 'Utility': 2, '...       7.276814e+06   \n5                              {'Pop': 1, 'Rock': 2}       2.492494e+06   \n\n   spotify_popularity                 spotify_genres_1  \n0           65.066667                              Pop  \n1           77.608696                              Pop  \n2           69.702128             Rock and Heavy Metal  \n3           63.487805  Not_assignable_no_concert_music  \n4           70.500000             Rock and Heavy Metal  \n5           53.500000             Rock and Heavy Metal  ",
      "text/html": "<div>\n<style scoped>\n    .dataframe tbody tr th:only-of-type {\n        vertical-align: middle;\n    }\n\n    .dataframe tbody tr th {\n        vertical-align: top;\n    }\n\n    .dataframe thead th {\n        text-align: right;\n    }\n</style>\n<table border=\"1\" class=\"dataframe\">\n  <thead>\n    <tr style=\"text-align: right;\">\n      <th></th>\n      <th>spotify_uid</th>\n      <th>spotify_create_time</th>\n      <th>spotify_update_time</th>\n      <th>spotify_read_time</th>\n      <th>spotify_genres</th>\n      <th>spotify_genres_9</th>\n      <th>spotify_genres_18</th>\n      <th>spotify_followers</th>\n      <th>spotify_popularity</th>\n      <th>spotify_genres_1</th>\n    </tr>\n  </thead>\n  <tbody>\n    <tr>\n      <th>0</th>\n      <td>fiFDr5jQg0aUSfSHw59g1rQFVSs1</td>\n      <td>2021-12-29 14:41:10.781769</td>\n      <td>2021-12-29 14:41:45.770151</td>\n      <td>2022-02-04 19:24:43.689808</td>\n      <td>{'social media pop': 2, 'rebel blues': 4, 'cou...</td>\n      <td>{'Pop': 21, 'Rhythm music': 4, 'Alternative': ...</td>\n      <td>{'Rock': 16, 'Dance Music, Techno and House': ...</td>\n      <td>2.693735e+06</td>\n      <td>65.066667</td>\n      <td>Pop</td>\n    </tr>\n    <tr>\n      <th>1</th>\n      <td>Q3t2J73kpIcMqGBmB1ZEqLANtDz1</td>\n      <td>2021-12-06 18:23:20.788728</td>\n      <td>2022-01-08 11:26:15.073020</td>\n      <td>2022-02-04 19:24:43.689808</td>\n      <td>{'miami hip hop': 3, 'nz pop': 1, 'piano rock'...</td>\n      <td>{'Pop': 30, 'Rhythm music': 1, 'Alternative': ...</td>\n      <td>{'Pop': 30, 'Utility': 1, 'Rock': 8, 'Not_assi...</td>\n      <td>1.167529e+07</td>\n      <td>77.608696</td>\n      <td>Pop</td>\n    </tr>\n    <tr>\n      <th>2</th>\n      <td>uagVX8DeaePP88Qz5Vj2EtXstK03</td>\n      <td>2021-12-11 12:21:02.186210</td>\n      <td>2021-12-11 12:21:02.186210</td>\n      <td>2022-02-04 19:24:43.689808</td>\n      <td>{'finnish heavy metal': 1, 'rock-and-roll': 1,...</td>\n      <td>{'Pop': 10, 'Rhythm music': 3, 'Alternative': ...</td>\n      <td>{'Pop': 9, 'Heavy Metal': 21, 'Industrial and ...</td>\n      <td>4.858708e+06</td>\n      <td>69.702128</td>\n      <td>Rock and Heavy Metal</td>\n    </tr>\n    <tr>\n      <th>3</th>\n      <td>UrZpLI2DysWJIVCmLNwTW5JJJO62</td>\n      <td>2022-01-09 15:36:20.930481</td>\n      <td>2022-01-09 15:36:20.930481</td>\n      <td>2022-02-04 19:24:43.689808</td>\n      <td>{'filter house': 2, 'new rave': 1, 'japanese c...</td>\n      <td>{'Pop': 11, 'Rhythm music': 4, 'Alternative': ...</td>\n      <td>{'Rock': 14, 'Dance Music, Techno and House': ...</td>\n      <td>2.468938e+06</td>\n      <td>63.487805</td>\n      <td>Not_assignable_no_concert_music</td>\n    </tr>\n    <tr>\n      <th>4</th>\n      <td>VQEI5Ea2AsP2tjLTlfBcmL0wn7t2</td>\n      <td>2021-12-06 15:01:05.156199</td>\n      <td>2022-01-31 12:54:50.318255</td>\n      <td>2022-02-04 19:24:43.689808</td>\n      <td>{'social media pop': 3, 'candy pop': 1, 'nouve...</td>\n      <td>{'Pop': 25, 'Rhythm music': 1, 'Alternative': ...</td>\n      <td>{'Pop': 25, 'Heavy Metal': 10, 'Utility': 2, '...</td>\n      <td>7.276814e+06</td>\n      <td>70.500000</td>\n      <td>Rock and Heavy Metal</td>\n    </tr>\n    <tr>\n      <th>5</th>\n      <td>f6TABm8ygYT5P1NbtF7DQEk6bv82</td>\n      <td>2021-12-06 18:36:31.549954</td>\n      <td>2021-12-25 13:56:33.876422</td>\n      <td>2022-02-04 19:24:43.689808</td>\n      <td>{'italian pop': 1, 'melodic hard rock': 1, 'in...</td>\n      <td>{'Pop': 1, 'Rock and Heavy Metal': 2}</td>\n      <td>{'Pop': 1, 'Rock': 2}</td>\n      <td>2.492494e+06</td>\n      <td>53.500000</td>\n      <td>Rock and Heavy Metal</td>\n    </tr>\n  </tbody>\n</table>\n</div>"
     },
     "execution_count": 282,
     "metadata": {},
     "output_type": "execute_result"
    }
   ],
   "source": [
    "\n",
    "\n",
    "\n",
    "db.collection(u'predicted_9_genres').document(u'LA').set({'test': 'test'})\n",
    "\n",
    "userdataDF.toPandas()\n",
    "\n"
   ],
   "metadata": {
    "collapsed": false,
    "pycharm": {
     "name": "#%%\n"
    }
   }
  },
  {
   "cell_type": "code",
   "execution_count": 313,
   "outputs": [
    {
     "data": {
      "text/plain": "      genres         main_genre_18          main_genre_9  main_genre_9_index  main_genre_18_index  genres_index\n0        pop                   Pop                   Pop                   1                    0          4115\n1  dance pop                   Pop                   Pop                   1                    0          1276\n2        rap       Rap and Hip-Hop       Rap and Hip-Hop                   5                    5          4327\n3       rock                  Rock  Rock and Heavy Metal                   0                    2          4469\n4      latin  Latin American music  Latin American music                   8                   10          3049",
      "text/html": "<div>\n<style scoped>\n    .dataframe tbody tr th:only-of-type {\n        vertical-align: middle;\n    }\n\n    .dataframe tbody tr th {\n        vertical-align: top;\n    }\n\n    .dataframe thead th {\n        text-align: right;\n    }\n</style>\n<table border=\"1\" class=\"dataframe\">\n  <thead>\n    <tr style=\"text-align: right;\">\n      <th></th>\n      <th>genres</th>\n      <th>main_genre_18</th>\n      <th>main_genre_9</th>\n      <th>main_genre_9_index</th>\n      <th>main_genre_18_index</th>\n      <th>genres_index</th>\n    </tr>\n  </thead>\n  <tbody>\n    <tr>\n      <th>0</th>\n      <td>pop</td>\n      <td>Pop</td>\n      <td>Pop</td>\n      <td>1</td>\n      <td>0</td>\n      <td>4115</td>\n    </tr>\n    <tr>\n      <th>1</th>\n      <td>dance pop</td>\n      <td>Pop</td>\n      <td>Pop</td>\n      <td>1</td>\n      <td>0</td>\n      <td>1276</td>\n    </tr>\n    <tr>\n      <th>2</th>\n      <td>rap</td>\n      <td>Rap and Hip-Hop</td>\n      <td>Rap and Hip-Hop</td>\n      <td>5</td>\n      <td>5</td>\n      <td>4327</td>\n    </tr>\n    <tr>\n      <th>3</th>\n      <td>rock</td>\n      <td>Rock</td>\n      <td>Rock and Heavy Metal</td>\n      <td>0</td>\n      <td>2</td>\n      <td>4469</td>\n    </tr>\n    <tr>\n      <th>4</th>\n      <td>latin</td>\n      <td>Latin American music</td>\n      <td>Latin American music</td>\n      <td>8</td>\n      <td>10</td>\n      <td>3049</td>\n    </tr>\n  </tbody>\n</table>\n</div>"
     },
     "execution_count": 313,
     "metadata": {},
     "output_type": "execute_result"
    }
   ],
   "source": [
    "genre_map = spark.read.format('delta').load('/home/mlops/project/DeltaLake/platinum_data/genre_map_indexed')\n",
    "genre_map.to_pandas_on_spark().head()"
   ],
   "metadata": {
    "collapsed": false,
    "pycharm": {
     "name": "#%%\n"
    }
   }
  },
  {
   "cell_type": "code",
   "execution_count": 329,
   "outputs": [
    {
     "data": {
      "text/plain": "   Rock and Heavy Metal       Pop  Not_assignable_no_concert_music  \\\n0              0.959999  0.040000                              0.0   \n1              0.006667  0.000000                              0.0   \n2              0.493333  0.506666                              0.0   \n3              0.929999  0.070000                              0.0   \n4              0.996666  0.003333                              0.0   \n5              0.659999  0.340000                              0.0   \n\n   Alternative  Electronical music  Rap and Hip-Hop  Rhythm music  Classical  \\\n0     0.000000            0.000000              0.0      0.000000        0.0   \n1     0.003333            0.003333              0.0      0.986666        0.0   \n2     0.000000            0.000000              0.0      0.000000        0.0   \n3     0.000000            0.000000              0.0      0.000000        0.0   \n4     0.000000            0.000000              0.0      0.000000        0.0   \n5     0.000000            0.000000              0.0      0.000000        0.0   \n\n   Latin American music  \n0                   0.0  \n1                   0.0  \n2                   0.0  \n3                   0.0  \n4                   0.0  \n5                   0.0  ",
      "text/html": "<div>\n<style scoped>\n    .dataframe tbody tr th:only-of-type {\n        vertical-align: middle;\n    }\n\n    .dataframe tbody tr th {\n        vertical-align: top;\n    }\n\n    .dataframe thead th {\n        text-align: right;\n    }\n</style>\n<table border=\"1\" class=\"dataframe\">\n  <thead>\n    <tr style=\"text-align: right;\">\n      <th></th>\n      <th>Rock and Heavy Metal</th>\n      <th>Pop</th>\n      <th>Not_assignable_no_concert_music</th>\n      <th>Alternative</th>\n      <th>Electronical music</th>\n      <th>Rap and Hip-Hop</th>\n      <th>Rhythm music</th>\n      <th>Classical</th>\n      <th>Latin American music</th>\n    </tr>\n  </thead>\n  <tbody>\n    <tr>\n      <th>0</th>\n      <td>0.959999</td>\n      <td>0.040000</td>\n      <td>0.0</td>\n      <td>0.000000</td>\n      <td>0.000000</td>\n      <td>0.0</td>\n      <td>0.000000</td>\n      <td>0.0</td>\n      <td>0.0</td>\n    </tr>\n    <tr>\n      <th>1</th>\n      <td>0.006667</td>\n      <td>0.000000</td>\n      <td>0.0</td>\n      <td>0.003333</td>\n      <td>0.003333</td>\n      <td>0.0</td>\n      <td>0.986666</td>\n      <td>0.0</td>\n      <td>0.0</td>\n    </tr>\n    <tr>\n      <th>2</th>\n      <td>0.493333</td>\n      <td>0.506666</td>\n      <td>0.0</td>\n      <td>0.000000</td>\n      <td>0.000000</td>\n      <td>0.0</td>\n      <td>0.000000</td>\n      <td>0.0</td>\n      <td>0.0</td>\n    </tr>\n    <tr>\n      <th>3</th>\n      <td>0.929999</td>\n      <td>0.070000</td>\n      <td>0.0</td>\n      <td>0.000000</td>\n      <td>0.000000</td>\n      <td>0.0</td>\n      <td>0.000000</td>\n      <td>0.0</td>\n      <td>0.0</td>\n    </tr>\n    <tr>\n      <th>4</th>\n      <td>0.996666</td>\n      <td>0.003333</td>\n      <td>0.0</td>\n      <td>0.000000</td>\n      <td>0.000000</td>\n      <td>0.0</td>\n      <td>0.000000</td>\n      <td>0.0</td>\n      <td>0.0</td>\n    </tr>\n    <tr>\n      <th>5</th>\n      <td>0.659999</td>\n      <td>0.340000</td>\n      <td>0.0</td>\n      <td>0.000000</td>\n      <td>0.000000</td>\n      <td>0.0</td>\n      <td>0.000000</td>\n      <td>0.0</td>\n      <td>0.0</td>\n    </tr>\n  </tbody>\n</table>\n</div>"
     },
     "execution_count": 329,
     "metadata": {},
     "output_type": "execute_result"
    }
   ],
   "source": [
    "predDF = pd.DataFrame(predictions)\n",
    "\n",
    "genre_map_2 = genre_map.select('main_genre_9', 'main_genre_9_index').distinct().sort('main_genre_9_index').toPandas().to_dict()['main_genre_9']\n",
    "\n",
    "\n",
    "data = predDF.rename(columns=genre_map_2)\n",
    "data"
   ],
   "metadata": {
    "collapsed": false,
    "pycharm": {
     "name": "#%%\n"
    }
   }
  },
  {
   "cell_type": "code",
   "execution_count": 336,
   "outputs": [],
   "source": [
    "\n",
    "\n",
    "userPd = userdata.toDF().toPandas()\n",
    "# print(userPd[0:1]['spotify_uid'].values[0])\n",
    "for index, prediction in data.iterrows():\n",
    "    uid = userPd[prediction.name:prediction.name+1]['spotify_uid'].values[0]\n",
    "    db.collection(u'predicted_9_genres').document(uid).set(prediction.to_dict())"
   ],
   "metadata": {
    "collapsed": false,
    "pycharm": {
     "name": "#%%\n"
    }
   }
  },
  {
   "cell_type": "code",
   "execution_count": 322,
   "outputs": [
    {
     "data": {
      "text/plain": "                                        0         1    2         3         4  \\\nRock and Heavy Metal             0.959999  0.040000  0.0  0.000000  0.000000   \nPop                              0.006667  0.000000  0.0  0.003333  0.003333   \nNot_assignable_no_concert_music  0.493333  0.506666  0.0  0.000000  0.000000   \nAlternative                      0.929999  0.070000  0.0  0.000000  0.000000   \nElectronical music               0.996666  0.003333  0.0  0.000000  0.000000   \nRap and Hip-Hop                  0.659999  0.340000  0.0  0.000000  0.000000   \n\n                                   5         6    7    8  \nRock and Heavy Metal             0.0  0.000000  0.0  0.0  \nPop                              0.0  0.986666  0.0  0.0  \nNot_assignable_no_concert_music  0.0  0.000000  0.0  0.0  \nAlternative                      0.0  0.000000  0.0  0.0  \nElectronical music               0.0  0.000000  0.0  0.0  \nRap and Hip-Hop                  0.0  0.000000  0.0  0.0  ",
      "text/html": "<div>\n<style scoped>\n    .dataframe tbody tr th:only-of-type {\n        vertical-align: middle;\n    }\n\n    .dataframe tbody tr th {\n        vertical-align: top;\n    }\n\n    .dataframe thead th {\n        text-align: right;\n    }\n</style>\n<table border=\"1\" class=\"dataframe\">\n  <thead>\n    <tr style=\"text-align: right;\">\n      <th></th>\n      <th>0</th>\n      <th>1</th>\n      <th>2</th>\n      <th>3</th>\n      <th>4</th>\n      <th>5</th>\n      <th>6</th>\n      <th>7</th>\n      <th>8</th>\n    </tr>\n  </thead>\n  <tbody>\n    <tr>\n      <th>Rock and Heavy Metal</th>\n      <td>0.959999</td>\n      <td>0.040000</td>\n      <td>0.0</td>\n      <td>0.000000</td>\n      <td>0.000000</td>\n      <td>0.0</td>\n      <td>0.000000</td>\n      <td>0.0</td>\n      <td>0.0</td>\n    </tr>\n    <tr>\n      <th>Pop</th>\n      <td>0.006667</td>\n      <td>0.000000</td>\n      <td>0.0</td>\n      <td>0.003333</td>\n      <td>0.003333</td>\n      <td>0.0</td>\n      <td>0.986666</td>\n      <td>0.0</td>\n      <td>0.0</td>\n    </tr>\n    <tr>\n      <th>Not_assignable_no_concert_music</th>\n      <td>0.493333</td>\n      <td>0.506666</td>\n      <td>0.0</td>\n      <td>0.000000</td>\n      <td>0.000000</td>\n      <td>0.0</td>\n      <td>0.000000</td>\n      <td>0.0</td>\n      <td>0.0</td>\n    </tr>\n    <tr>\n      <th>Alternative</th>\n      <td>0.929999</td>\n      <td>0.070000</td>\n      <td>0.0</td>\n      <td>0.000000</td>\n      <td>0.000000</td>\n      <td>0.0</td>\n      <td>0.000000</td>\n      <td>0.0</td>\n      <td>0.0</td>\n    </tr>\n    <tr>\n      <th>Electronical music</th>\n      <td>0.996666</td>\n      <td>0.003333</td>\n      <td>0.0</td>\n      <td>0.000000</td>\n      <td>0.000000</td>\n      <td>0.0</td>\n      <td>0.000000</td>\n      <td>0.0</td>\n      <td>0.0</td>\n    </tr>\n    <tr>\n      <th>Rap and Hip-Hop</th>\n      <td>0.659999</td>\n      <td>0.340000</td>\n      <td>0.0</td>\n      <td>0.000000</td>\n      <td>0.000000</td>\n      <td>0.0</td>\n      <td>0.000000</td>\n      <td>0.0</td>\n      <td>0.0</td>\n    </tr>\n  </tbody>\n</table>\n</div>"
     },
     "execution_count": 322,
     "metadata": {},
     "output_type": "execute_result"
    }
   ],
   "source": [
    "\n"
   ],
   "metadata": {
    "collapsed": false,
    "pycharm": {
     "name": "#%%\n"
    }
   }
  },
  {
   "cell_type": "code",
   "execution_count": null,
   "outputs": [],
   "source": [],
   "metadata": {
    "collapsed": false,
    "pycharm": {
     "name": "#%%\n"
    }
   }
  }
 ],
 "metadata": {
  "kernelspec": {
   "display_name": "Python 3",
   "language": "python",
   "name": "python3"
  },
  "language_info": {
   "codemirror_mode": {
    "name": "ipython",
    "version": 2
   },
   "file_extension": ".py",
   "mimetype": "text/x-python",
   "name": "python",
   "nbconvert_exporter": "python",
   "pygments_lexer": "ipython2",
   "version": "2.7.6"
  }
 },
 "nbformat": 4,
 "nbformat_minor": 0
}